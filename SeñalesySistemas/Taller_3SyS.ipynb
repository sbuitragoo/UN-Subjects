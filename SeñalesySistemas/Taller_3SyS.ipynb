{
  "nbformat": 4,
  "nbformat_minor": 0,
  "metadata": {
    "colab": {
      "name": "Taller_3SyS.ipynb",
      "provenance": [],
      "collapsed_sections": [],
      "authorship_tag": "ABX9TyNnGswH+tNVrpmh6dzGKbXT",
      "include_colab_link": true
    },
    "kernelspec": {
      "name": "python3",
      "display_name": "Python 3"
    }
  },
  "cells": [
    {
      "cell_type": "markdown",
      "metadata": {
        "id": "view-in-github",
        "colab_type": "text"
      },
      "source": [
        "<a href=\"https://colab.research.google.com/github/sbuitragoo/UN-Subjects/blob/main/Se%C3%B1alesySistemas/Taller_3SyS.ipynb\" target=\"_parent\"><img src=\"https://colab.research.google.com/assets/colab-badge.svg\" alt=\"Open In Colab\"/></a>"
      ]
    },
    {
      "cell_type": "markdown",
      "metadata": {
        "id": "Uu0c-5RaeUX-"
      },
      "source": [
        "# Señales y Sistemas - Taller 3\n",
        "\n",
        "## Santiago Buitrago Osorio"
      ]
    },
    {
      "cell_type": "markdown",
      "metadata": {
        "id": "xKQS35gHefbt"
      },
      "source": [
        "## 1. Respuesta al Impulso\n",
        "Ejercicios:\n",
        "\n",
        "* Compare la señal de salida obtenida al resolver la EDO con la obtenida mediante la convolución. Son iguales?\n",
        "* Compruebe la solución $h(t)$ de la EDO cuando $x(t)=\\delta(t)$ de manera manual. Tener en cuenta que $\\frac{d}{dt} \\epsilon(t) = \\delta(t)$.\n",
        "* Comprobar la solución de la integral de convolución de manera manual. Tener en cuenta las funciones Heaviside."
      ]
    },
    {
      "cell_type": "code",
      "metadata": {
        "id": "K15IkBHbeOS1",
        "colab": {
          "base_uri": "https://localhost:8080/",
          "height": 38
        },
        "outputId": "703ca4ba-66cd-4932-b711-591581259e2c"
      },
      "source": [
        "#Definición de la EDO\n",
        "%matplotlib inline\n",
        "import sympy as sym\n",
        "sym.init_printing()\n",
        "\n",
        "t = sym.symbols('t', real=True)\n",
        "x = sym.Function('x')(t)\n",
        "y = sym.Function('y')(t)\n",
        "\n",
        "ode = sym.Eq(y + y.diff(t) , x)\n",
        "ode"
      ],
      "execution_count": null,
      "outputs": [
        {
          "output_type": "execute_result",
          "data": {
            "image/png": "[encoded data removed]",
            "text/latex": "$$y{\\left (t \\right )} + \\frac{d}{d t} y{\\left (t \\right )} = x{\\left (t \\right )}$$",
            "text/plain": [
              "       d              \n",
              "y(t) + ──(y(t)) = x(t)\n",
              "       dt             "
            ]
          },
          "metadata": {
            "tags": []
          },
          "execution_count": 1
        }
      ]
    },
    {
      "cell_type": "code",
      "metadata": {
        "id": "k5DL9iYlfnFJ",
        "colab": {
          "base_uri": "https://localhost:8080/",
          "height": 38
        },
        "outputId": "beed4a52-190d-4986-c1dc-8655efc75e3a"
      },
      "source": [
        "#Solución\n",
        "solution = sym.dsolve(ode.subs(x, sym.exp(-2*t)*sym.Heaviside(t)))\n",
        "integration_constants = sym.solve( (solution.rhs.limit(t, 0, '-'), solution.rhs.diff(t).limit(t, 0, '-')), 'C1' )\n",
        "y1 = solution.subs(integration_constants)\n",
        "y1"
      ],
      "execution_count": null,
      "outputs": [
        {
          "output_type": "execute_result",
          "data": {
            "image/png": "[encoded data removed]",
            "text/latex": "$$y{\\left (t \\right )} = \\left(1 - e^{- t}\\right) e^{- t} \\theta\\left(t\\right)$$",
            "text/plain": [
              "       ⎛     -t⎞  -t             \n",
              "y(t) = ⎝1 - ℯ  ⎠⋅ℯ  ⋅Heaviside(t)"
            ]
          },
          "metadata": {
            "tags": []
          },
          "execution_count": 25
        }
      ]
    },
    {
      "cell_type": "code",
      "metadata": {
        "id": "z3aP_u8_fspN",
        "colab": {
          "base_uri": "https://localhost:8080/",
          "height": 38
        },
        "outputId": "af23d137-750a-4056-fff3-c343f58e0941"
      },
      "source": [
        "#Respuesta al impulso.\n",
        "\n",
        "h = sym.Function('h')(t)\n",
        "solution2 = sym.dsolve(ode.subs(x, sym.DiracDelta(t)).subs(y, h))\n",
        "integration_constants = sym.solve( (solution2.rhs.limit(t, 0, '-'), solution2.rhs.diff(t).limit(t, 0, '-')), 'C1' )\n",
        "h = solution2.subs(integration_constants)\n",
        "h"
      ],
      "execution_count": null,
      "outputs": [
        {
          "output_type": "execute_result",
          "data": {
            "image/png": "[encoded data removed]",
            "text/latex": "$$h{\\left (t \\right )} = e^{- t} \\theta\\left(t\\right)$$",
            "text/plain": [
              "        -t             \n",
              "h(t) = ℯ  ⋅Heaviside(t)"
            ]
          },
          "metadata": {
            "tags": []
          },
          "execution_count": 26
        }
      ]
    },
    {
      "cell_type": "code",
      "metadata": {
        "id": "bX7HQBthgQWM",
        "colab": {
          "base_uri": "https://localhost:8080/",
          "height": 38
        },
        "outputId": "91af7acf-a38b-483e-98d7-c5a0ca7b17ae"
      },
      "source": [
        "#Convolución\n",
        "tau = sym.symbols('tau', real=True)\n",
        "\n",
        "y2 = sym.integrate(sym.exp(-2*tau) * h.rhs.subs(sym.Heaviside(t), 1).subs(t, t-tau), (tau, 0, t))\n",
        "y2"
      ],
      "execution_count": null,
      "outputs": [
        {
          "output_type": "execute_result",
          "data": {
            "image/png": "[encoded data removed]",
            "text/latex": "$$e^{- t} - e^{- 2 t}$$",
            "text/plain": [
              " -t    -2⋅t\n",
              "ℯ   - ℯ    "
            ]
          },
          "metadata": {
            "tags": []
          },
          "execution_count": 27
        }
      ]
    },
    {
      "cell_type": "markdown",
      "metadata": {
        "id": "Lr21smn-goVF"
      },
      "source": [
        "## Solución:"
      ]
    },
    {
      "cell_type": "code",
      "metadata": {
        "id": "23a9m41igkzI",
        "colab": {
          "base_uri": "https://localhost:8080/",
          "height": 934
        },
        "outputId": "56ee9ae7-ff19-41c6-b605-62b71ac500c8"
      },
      "source": [
        "#Comparación:\n",
        "\n",
        "sym.plot(y1.rhs, (t,-1,10), ylabel=r'$y(t)$');\n",
        "\n",
        "sym.plot(y2, (t,-1,10), ylabel=r'$y(t)$');\n",
        "\n",
        "sym.plot(y1.rhs-y2, (t,-1,10), ylabel=r'$y(t)$');"
      ],
      "execution_count": null,
      "outputs": [
        {
          "output_type": "stream",
          "text": [
            "/usr/local/lib/python3.6/dist-packages/sympy/plotting/plot.py:890: MatplotlibDeprecationWarning: \n",
            "The set_smart_bounds function was deprecated in Matplotlib 3.2 and will be removed two minor releases later.\n",
            "  self.ax.spines['left'].set_smart_bounds(True)\n",
            "/usr/local/lib/python3.6/dist-packages/sympy/plotting/plot.py:891: MatplotlibDeprecationWarning: \n",
            "The set_smart_bounds function was deprecated in Matplotlib 3.2 and will be removed two minor releases later.\n",
            "  self.ax.spines['bottom'].set_smart_bounds(False)\n"
          ],
          "name": "stderr"
        },
        {
          "output_type": "display_data",
          "data": {
            "image/png": "[encoded data removed]",
            "text/plain": [
              "<Figure size 432x288 with 1 Axes>"
            ]
          },
          "metadata": {
            "tags": [],
            "needs_background": "light"
          }
        },
        {
          "output_type": "display_data",
          "data": {
            "image/png": "[encoded data removed]",
            "text/plain": [
              "<Figure size 432x288 with 1 Axes>"
            ]
          },
          "metadata": {
            "tags": [],
            "needs_background": "light"
          }
        },
        {
          "output_type": "display_data",
          "data": {
            "image/png": "[encoded data removed]",
            "text/plain": [
              "<Figure size 432x288 with 1 Axes>"
            ]
          },
          "metadata": {
            "tags": [],
            "needs_background": "light"
          }
        }
      ]
    },
    {
      "cell_type": "markdown",
      "metadata": {
        "id": "D6gzCESphzOm"
      },
      "source": [
        "Como se puede observar, las señales son iguales desde $t \\geq 0$, para $t \\leq 0$ la señal $y_1$ tiene un valor de 0, pero la señal $y_2$ no tiene ningún valor, ya que esta inicia desde 0."
      ]
    },
    {
      "cell_type": "markdown",
      "metadata": {
        "id": "r7OVzF94rK_e"
      },
      "source": [
        "## 2. Respuesta al escalon:\n",
        "\n",
        "Este cuaderno no posee ejercicios."
      ]
    },
    {
      "cell_type": "markdown",
      "metadata": {
        "id": "cTfczFVlrtzG"
      },
      "source": [
        "## 3. Autofunciones:\n",
        "\n",
        "Ejercicios:\n",
        "\n",
        "* Introduzca $x(t)=e^{s t} $ y $y(t)=\\lambda \\cdot e^{st}$ en la EDO y calcule manualmente el valor propio $\\lambda$. ¿Cómo se relaciona el resultado con el resultado anterior al resolver la EDO?\n",
        "* Puede generalizar sus resultados a una EDO de orden arbitrario?"
      ]
    },
    {
      "cell_type": "code",
      "metadata": {
        "id": "s3tjRGMIoMDE",
        "colab": {
          "base_uri": "https://localhost:8080/",
          "height": 42
        },
        "outputId": "53355d8e-f953-4526-d1a6-558ab384127d"
      },
      "source": [
        "%matplotlib inline\n",
        "import sympy as sym\n",
        "sym.init_printing()\n",
        "\n",
        "t, s, a0, a1, a2 = sym.symbols('t s a:3')\n",
        "x = sym.exp(s * t)\n",
        "y = sym.Function('y')(t)\n",
        "\n",
        "ode = sym.Eq(a0*y + a1*y.diff(t) + a2*y.diff(t,2), x)\n",
        "solution = sym.dsolve(ode)\n",
        "solution.subs({'C1': 0, 'C2' : 0})"
      ],
      "execution_count": null,
      "outputs": [
        {
          "output_type": "execute_result",
          "data": {
            "image/png": "[encoded data removed]",
            "text/latex": "$$y{\\left (t \\right )} = \\frac{e^{s t}}{a_{0} + a_{1} s + a_{2} s^{2}}$$",
            "text/plain": [
              "               s⋅t      \n",
              "              ℯ         \n",
              "y(t) = ─────────────────\n",
              "                       2\n",
              "       a₀ + a₁⋅s + a₂⋅s "
            ]
          },
          "metadata": {
            "tags": []
          },
          "execution_count": 23
        }
      ]
    },
    {
      "cell_type": "markdown",
      "metadata": {
        "id": "OQU3s4X5uogF"
      },
      "source": [
        "## 4. Red Eléctrica:\n",
        "\n",
        "Este cuaderno no tiene ejercicios."
      ]
    },
    {
      "cell_type": "markdown",
      "metadata": {
        "id": "-nuisoT8uvqg"
      },
      "source": [
        "## 5. Pendulo Elástico:\n",
        "\n",
        "1. Ejercicios:\n",
        "\n",
        "* Cambie el coeficiente de amortiguamiento $c$ del péndulo elástico e indique cómo cambia la magnitud y la fase de la función de transferencia $H(j\\omega)$.\n",
        "\n",
        "* Qué relación hay entre la frecuencia de oscilación y las frecuencias de resonancia?\n",
        "\n",
        "2. Ejercicios: \n",
        "* Calcule y grafique el desplazamiento para valores dados de $m_\\text{I}$ y $r$.\n",
        "\n",
        "* ¿Para qué frecuencias angulares $\\omega$ se tiene una mayor magnitud del desplazamiento? ¿Cómo es la relación de fase entre la fuerza externa $F_\\text{E}(t)$ y el desplazamiento $y(t)$ en estas frecuencias?\n",
        "\n",
        "* ¿Cómo deben elegirse las frecuencias de resonancia $\\omega_0$ del péndulo de resorte para obtener un buen aislamiento de vibraciones para una máquina que gira con frecuencia angular $\\omega$? ¿Cómo es la relación de fase entre la fuerza externa $F_\\text{E}(t) $ y el desplazamiento $y(t)$ a esta frecuencia?\n"
      ]
    },
    {
      "cell_type": "code",
      "metadata": {
        "id": "P8gIFLuUTq-9",
        "colab": {
          "base_uri": "https://localhost:8080/",
          "height": 41
        },
        "outputId": "2a855dec-ce51-408f-da37-801939f54d26"
      },
      "source": [
        "%matplotlib inline\n",
        "import sympy as sym\n",
        "sym.init_printing()\n",
        "\n",
        "t, m, c, k = sym.symbols('t m c k', real=True)\n",
        "x = sym.Function('x')(t)\n",
        "y = sym.Function('y')(t)\n",
        "\n",
        "ode = sym.Eq(m*y.diff(t, 2) + c*y.diff(t) + k*y, x)\n",
        "ode"
      ],
      "execution_count": null,
      "outputs": [
        {
          "output_type": "execute_result",
          "data": {
            "image/png": "[encoded data removed]",
            "text/latex": "$$c \\frac{d}{d t} y{\\left (t \\right )} + k y{\\left (t \\right )} + m \\frac{d^{2}}{d t^{2}}  y{\\left (t \\right )} = x{\\left (t \\right )}$$",
            "text/plain": [
              "                          2             \n",
              "  d                      d              \n",
              "c⋅──(y(t)) + k⋅y(t) + m⋅───(y(t)) = x(t)\n",
              "  dt                      2             \n",
              "                        dt              "
            ]
          },
          "metadata": {
            "tags": []
          },
          "execution_count": 75
        }
      ]
    },
    {
      "cell_type": "code",
      "metadata": {
        "id": "NEh2bGIDTuxz",
        "colab": {
          "base_uri": "https://localhost:8080/",
          "height": 38
        },
        "outputId": "444a65c0-85f3-44f8-bf68-8e13a441860d"
      },
      "source": [
        "mck = {m: 0.1, c: sym.Rational('.5'), k: sym.Rational('2.5')}\n",
        "mck"
      ],
      "execution_count": null,
      "outputs": [
        {
          "output_type": "execute_result",
          "data": {
            "image/png": "[encoded data removed]",
            "text/latex": "$$\\left \\{ c : \\frac{1}{2}, \\quad k : \\frac{5}{2}, \\quad m : 0.1\\right \\}$$",
            "text/plain": [
              "{c: 1/2, k: 5/2, m: 0.1}"
            ]
          },
          "metadata": {
            "tags": []
          },
          "execution_count": 76
        }
      ]
    },
    {
      "cell_type": "code",
      "metadata": {
        "id": "AiKMeq58T1ed",
        "colab": {
          "base_uri": "https://localhost:8080/",
          "height": 38
        },
        "outputId": "f201bd1d-2097-4487-ff0f-87ec999cadd7"
      },
      "source": [
        "integration_constants = sym.solve( (solution_h.rhs.limit(t, 0, '-'), solution_h.rhs.diff(t).limit(t, 0, '-')), ['C1', 'C2'] )\n",
        "integration_constants"
      ],
      "execution_count": null,
      "outputs": [
        {
          "output_type": "execute_result",
          "data": {
            "image/png": "[encoded data removed]",
            "text/latex": "$$\\left \\{ C_{1} : 0, \\quad C_{2} : 0\\right \\}$$",
            "text/plain": [
              "{C₁: 0, C₂: 0}"
            ]
          },
          "metadata": {
            "tags": []
          },
          "execution_count": 77
        }
      ]
    },
    {
      "cell_type": "code",
      "metadata": {
        "id": "g6KzWE66T49h",
        "colab": {
          "base_uri": "https://localhost:8080/",
          "height": 45
        },
        "outputId": "18688dcb-c60a-4def-d996-3d14935a0698"
      },
      "source": [
        "h = solution_h.subs(integration_constants)\n",
        "h"
      ],
      "execution_count": null,
      "outputs": [
        {
          "output_type": "execute_result",
          "data": {
            "image/png": "[encoded data removed]",
            "text/latex": "$$h{\\left (t \\right )} = - \\frac{\\theta\\left(t\\right)}{\\sqrt{c^{2} - 4 k m}} e^{\\frac{t}{2 m} \\left(- c - \\sqrt{c^{2} - 4 k m}\\right)} + \\frac{\\theta\\left(t\\right)}{\\sqrt{c^{2} - 4 k m}} e^{\\frac{t}{2 m} \\left(- c + \\sqrt{c^{2} - 4 k m}\\right)}$$",
            "text/plain": [
              "            ⎛        ____________⎞                   ⎛        ____________⎞   \n",
              "            ⎜       ╱  2         ⎟                   ⎜       ╱  2         ⎟   \n",
              "          t⋅⎝-c - ╲╱  c  - 4⋅k⋅m ⎠                 t⋅⎝-c + ╲╱  c  - 4⋅k⋅m ⎠   \n",
              "          ────────────────────────                 ────────────────────────   \n",
              "                    2⋅m                                      2⋅m              \n",
              "         ℯ                        ⋅Heaviside(t)   ℯ                        ⋅He\n",
              "h(t) = - ────────────────────────────────────── + ────────────────────────────\n",
              "                       ____________                             ____________  \n",
              "                      ╱  2                                     ╱  2           \n",
              "                    ╲╱  c  - 4⋅k⋅m                           ╲╱  c  - 4⋅k⋅m   \n",
              "\n",
              "          \n",
              "          \n",
              "          \n",
              "          \n",
              "          \n",
              "aviside(t)\n",
              "──────────\n",
              "          \n",
              "          \n",
              "          "
            ]
          },
          "metadata": {
            "tags": []
          },
          "execution_count": 78
        }
      ]
    },
    {
      "cell_type": "code",
      "metadata": {
        "id": "cQR3C3c-Tx_c",
        "colab": {
          "base_uri": "https://localhost:8080/",
          "height": 45
        },
        "outputId": "9a1d1c68-6aac-49e8-b9d4-c3928d4b5bf8"
      },
      "source": [
        "solution_h = sym.dsolve(ode.subs(x, sym.DiracDelta(t)).subs(y, sym.Function('h')(t)))\n",
        "solution_h"
      ],
      "execution_count": null,
      "outputs": [
        {
          "output_type": "execute_result",
          "data": {
            "image/png": "[encoded data removed]",
            "text/latex": "$$h{\\left (t \\right )} = C_{1} e^{\\frac{t}{2 m} \\left(- c - \\sqrt{c^{2} - 4 k m}\\right)} + C_{2} e^{\\frac{t}{2 m} \\left(- c + \\sqrt{c^{2} - 4 k m}\\right)} - \\frac{\\theta\\left(t\\right)}{\\sqrt{c^{2} - 4 k m}} e^{\\frac{t}{2 m} \\left(- c - \\sqrt{c^{2} - 4 k m}\\right)} + \\frac{\\theta\\left(t\\right)}{\\sqrt{c^{2} - 4 k m}} e^{\\frac{t}{2 m} \\left(- c + \\sqrt{c^{2} - 4 k m}\\right)}$$",
            "text/plain": [
              "                                                                        ⎛     \n",
              "             ⎛        ____________⎞         ⎛        ____________⎞      ⎜     \n",
              "             ⎜       ╱  2         ⎟         ⎜       ╱  2         ⎟    t⋅⎝-c - \n",
              "           t⋅⎝-c - ╲╱  c  - 4⋅k⋅m ⎠       t⋅⎝-c + ╲╱  c  - 4⋅k⋅m ⎠    ────────\n",
              "           ────────────────────────       ────────────────────────            \n",
              "                     2⋅m                            2⋅m              ℯ        \n",
              "h(t) = C₁⋅ℯ                         + C₂⋅ℯ                         - ─────────\n",
              "                                                                              \n",
              "                                                                              \n",
              "                                                                              \n",
              "\n",
              "   ____________⎞                   ⎛        ____________⎞             \n",
              "  ╱  2         ⎟                   ⎜       ╱  2         ⎟             \n",
              "╲╱  c  - 4⋅k⋅m ⎠                 t⋅⎝-c + ╲╱  c  - 4⋅k⋅m ⎠             \n",
              "────────────────                 ────────────────────────             \n",
              "  2⋅m                                      2⋅m                        \n",
              "                ⋅Heaviside(t)   ℯ                        ⋅Heaviside(t)\n",
              "───────────────────────────── + ──────────────────────────────────────\n",
              "     ____________                             ____________            \n",
              "    ╱  2                                     ╱  2                     \n",
              "  ╲╱  c  - 4⋅k⋅m                           ╲╱  c  - 4⋅k⋅m             "
            ]
          },
          "metadata": {
            "tags": []
          },
          "execution_count": 79
        }
      ]
    },
    {
      "cell_type": "code",
      "metadata": {
        "id": "SLJxNopHVM2D",
        "colab": {
          "base_uri": "https://localhost:8080/",
          "height": 389
        },
        "outputId": "0f7de5c6-9003-4936-8944-5b7f8b390ddd"
      },
      "source": [
        "sym.plot(h.rhs.subs(mck), (t,0,12), ylabel=r'h(t)');"
      ],
      "execution_count": null,
      "outputs": [
        {
          "output_type": "stream",
          "text": [
            "/usr/local/lib/python3.6/dist-packages/sympy/plotting/plot.py:890: MatplotlibDeprecationWarning: \n",
            "The set_smart_bounds function was deprecated in Matplotlib 3.2 and will be removed two minor releases later.\n",
            "  self.ax.spines['left'].set_smart_bounds(True)\n",
            "/usr/local/lib/python3.6/dist-packages/sympy/plotting/plot.py:891: MatplotlibDeprecationWarning: \n",
            "The set_smart_bounds function was deprecated in Matplotlib 3.2 and will be removed two minor releases later.\n",
            "  self.ax.spines['bottom'].set_smart_bounds(False)\n"
          ],
          "name": "stderr"
        },
        {
          "output_type": "display_data",
          "data": {
            "image/png": "[encoded data removed]",
            "text/plain": [
              "<Figure size 432x288 with 1 Axes>"
            ]
          },
          "metadata": {
            "tags": [],
            "needs_background": "light"
          }
        }
      ]
    },
    {
      "cell_type": "code",
      "metadata": {
        "id": "1yTRk4uMuuvS",
        "colab": {
          "base_uri": "https://localhost:8080/",
          "height": 39
        },
        "outputId": "9c726c37-0a11-41aa-911a-373ae9a808d3"
      },
      "source": [
        "#Función de transferencia\n",
        "s = sym.symbols('s')\n",
        "H = sym.Function('H')(s)\n",
        "\n",
        "H, = sym.solve(ode.subs(x, sym.exp(s*t)).subs(y, H*sym.exp(s*t)).doit(), H)\n",
        "H"
      ],
      "execution_count": null,
      "outputs": [
        {
          "output_type": "execute_result",
          "data": {
            "image/png": "[encoded data removed]",
            "text/latex": "$$\\frac{1}{c s + k + m s^{2}}$$",
            "text/plain": [
              "      1       \n",
              "──────────────\n",
              "             2\n",
              "c⋅s + k + m⋅s "
            ]
          },
          "metadata": {
            "tags": []
          },
          "execution_count": 81
        }
      ]
    },
    {
      "cell_type": "code",
      "metadata": {
        "id": "p8Vf_9CFUZDB",
        "colab": {
          "base_uri": "https://localhost:8080/",
          "height": 39
        },
        "outputId": "6a65dd0c-182c-475c-bc2b-2959f6ff7a7c"
      },
      "source": [
        "w = sym.symbols('omega', real=True)\n",
        "\n",
        "Hjw = H.subs(s, sym.I * w)\n",
        "Hjw"
      ],
      "execution_count": null,
      "outputs": [
        {
          "output_type": "execute_result",
          "data": {
            "image/png": "[encoded data removed]",
            "text/latex": "$$\\frac{1}{i c \\omega + k - m \\omega^{2}}$$",
            "text/plain": [
              "       1        \n",
              "────────────────\n",
              "               2\n",
              "ⅈ⋅c⋅ω + k - m⋅ω "
            ]
          },
          "metadata": {
            "tags": []
          },
          "execution_count": 82
        }
      ]
    },
    {
      "cell_type": "code",
      "metadata": {
        "id": "N6bnOU7XVf86",
        "colab": {
          "base_uri": "https://localhost:8080/",
          "height": 397
        },
        "outputId": "feac9110-4b9a-43b8-88c9-80eb27a8e48d"
      },
      "source": [
        "sym.plot(abs(Hjw.subs(mck)), (w, -15, 15), ylabel=r'$|H(j \\omega)|$', xlabel=r'$\\omega$');"
      ],
      "execution_count": null,
      "outputs": [
        {
          "output_type": "stream",
          "text": [
            "/usr/local/lib/python3.6/dist-packages/sympy/plotting/plot.py:890: MatplotlibDeprecationWarning: \n",
            "The set_smart_bounds function was deprecated in Matplotlib 3.2 and will be removed two minor releases later.\n",
            "  self.ax.spines['left'].set_smart_bounds(True)\n",
            "/usr/local/lib/python3.6/dist-packages/sympy/plotting/plot.py:891: MatplotlibDeprecationWarning: \n",
            "The set_smart_bounds function was deprecated in Matplotlib 3.2 and will be removed two minor releases later.\n",
            "  self.ax.spines['bottom'].set_smart_bounds(False)\n"
          ],
          "name": "stderr"
        },
        {
          "output_type": "display_data",
          "data": {
            "image/png": "[encoded data removed]",
            "text/plain": [
              "<Figure size 432x288 with 1 Axes>"
            ]
          },
          "metadata": {
            "tags": [],
            "needs_background": "light"
          }
        }
      ]
    },
    {
      "cell_type": "code",
      "metadata": {
        "id": "MJ_-kPTVUgq3",
        "colab": {
          "base_uri": "https://localhost:8080/",
          "height": 58
        },
        "outputId": "59986ddb-7d75-40ee-f156-0b77c77f07d0"
      },
      "source": [
        "extrema = sym.solve(sym.Eq(sym.diff(abs(Hjw), w),0),w)\n",
        "extrema"
      ],
      "execution_count": null,
      "outputs": [
        {
          "output_type": "execute_result",
          "data": {
            "image/png": "[encoded data removed]",
            "text/latex": "$$\\left [ 0, \\quad - \\frac{1}{m} \\sqrt{- \\frac{c^{2}}{2} + k m}, \\quad \\frac{1}{m} \\sqrt{- \\frac{c^{2}}{2} + k m}, \\quad - \\frac{1}{2 \\left|{m}\\right|} \\sqrt{- 2 c^{2} + 4 k m + \\tilde{\\infty} \\left|{m}\\right|}, \\quad \\frac{1}{2 \\left|{m}\\right|} \\sqrt{- 2 c^{2} + 4 k m + 2 \\tilde{\\infty} \\left|{m}\\right|}\\right ]$$",
            "text/plain": [
              "⎡         ____________        ____________                                    \n",
              "⎢        ╱    2              ╱    2                                           \n",
              "⎢       ╱    c              ╱    c              __________________________    \n",
              "⎢   -  ╱   - ── + k⋅m      ╱   - ── + k⋅m      ╱      2                       \n",
              "⎢    ╲╱      2           ╲╱      2          -╲╱  - 2⋅c  + 4⋅k⋅m + zoo⋅│m│    ╲\n",
              "⎢0, ───────────────────, ─────────────────, ───────────────────────────────, ─\n",
              "⎣            m                   m                       2⋅│m│                \n",
              "\n",
              "                              ⎤\n",
              "                              ⎥\n",
              "  ____________________________⎥\n",
              " ╱      2                     ⎥\n",
              "╱  - 2⋅c  + 4⋅k⋅m + 2⋅zoo⋅│m│ ⎥\n",
              "──────────────────────────────⎥\n",
              "            2⋅│m│             ⎦"
            ]
          },
          "metadata": {
            "tags": []
          },
          "execution_count": 84
        }
      ]
    },
    {
      "cell_type": "code",
      "metadata": {
        "id": "VcEvse1xUkXf",
        "colab": {
          "base_uri": "https://localhost:8080/",
          "height": 58
        },
        "outputId": "ded5e0f0-817b-41a7-d930-75246654279e"
      },
      "source": [
        "w0 = extrema[1:3]\n",
        "w0"
      ],
      "execution_count": null,
      "outputs": [
        {
          "output_type": "execute_result",
          "data": {
            "image/png": "[encoded data removed]",
            "text/latex": "$$\\left [ - \\frac{1}{m} \\sqrt{- \\frac{c^{2}}{2} + k m}, \\quad \\frac{1}{m} \\sqrt{- \\frac{c^{2}}{2} + k m}\\right ]$$",
            "text/plain": [
              "⎡      ____________        ____________⎤\n",
              "⎢     ╱    2              ╱    2       ⎥\n",
              "⎢    ╱    c              ╱    c        ⎥\n",
              "⎢-  ╱   - ── + k⋅m      ╱   - ── + k⋅m ⎥\n",
              "⎢ ╲╱      2           ╲╱      2        ⎥\n",
              "⎢───────────────────, ─────────────────⎥\n",
              "⎣         m                   m        ⎦"
            ]
          },
          "metadata": {
            "tags": []
          },
          "execution_count": 85
        }
      ]
    },
    {
      "cell_type": "code",
      "metadata": {
        "id": "QObs4Dh9UoKb",
        "colab": {
          "base_uri": "https://localhost:8080/",
          "height": 37
        },
        "outputId": "dcdd5247-a29d-45df-a7cf-faeb63b55429"
      },
      "source": [
        "[w00.subs(mck) for w00 in w0]"
      ],
      "execution_count": null,
      "outputs": [
        {
          "output_type": "execute_result",
          "data": {
            "image/png": "[encoded data removed]",
            "text/latex": "$$\\left [ -3.53553390593274, \\quad 3.53553390593274\\right ]$$",
            "text/plain": [
              "[-3.53553390593274, 3.53553390593274]"
            ]
          },
          "metadata": {
            "tags": []
          },
          "execution_count": 86
        }
      ]
    },
    {
      "cell_type": "code",
      "metadata": {
        "id": "R-BLnRnTUsEp",
        "colab": {
          "base_uri": "https://localhost:8080/",
          "height": 394
        },
        "outputId": "0b96ea86-14ce-44d7-c78d-02775ff58e95"
      },
      "source": [
        "phi = sym.arg(Hjw)\n",
        "sym.plot(phi.subs(mck), (w, -15, 15), ylabel=r'$\\varphi(j \\omega)$', xlabel=r'$\\omega$');"
      ],
      "execution_count": null,
      "outputs": [
        {
          "output_type": "stream",
          "text": [
            "/usr/local/lib/python3.6/dist-packages/sympy/plotting/plot.py:890: MatplotlibDeprecationWarning: \n",
            "The set_smart_bounds function was deprecated in Matplotlib 3.2 and will be removed two minor releases later.\n",
            "  self.ax.spines['left'].set_smart_bounds(True)\n",
            "/usr/local/lib/python3.6/dist-packages/sympy/plotting/plot.py:891: MatplotlibDeprecationWarning: \n",
            "The set_smart_bounds function was deprecated in Matplotlib 3.2 and will be removed two minor releases later.\n",
            "  self.ax.spines['bottom'].set_smart_bounds(False)\n"
          ],
          "name": "stderr"
        },
        {
          "output_type": "display_data",
          "data": {
            "image/png": "[encoded data removed]",
            "text/plain": [
              "<Figure size 432x288 with 1 Axes>"
            ]
          },
          "metadata": {
            "tags": [],
            "needs_background": "light"
          }
        }
      ]
    },
    {
      "cell_type": "markdown",
      "metadata": {
        "id": "-nYnbGsCXfc6"
      },
      "source": [
        "# Solución:\n",
        "\n",
        "* Al aumentar el coeficiente de amortiguamiento $c$ la magnitud de la función de transferencia disminuye, se acota."
      ]
    },
    {
      "cell_type": "markdown",
      "metadata": {
        "id": "IEfwexFaWsHb"
      },
      "source": [
        "# Simulaciones del taller"
      ]
    },
    {
      "cell_type": "markdown",
      "metadata": {
        "id": "2pLVU3qrXI4y"
      },
      "source": [
        "## 4. Para las funciones de transferencia encontradas en el punto anterior, encuentre la expresión de salida en el tiempo, en función de R, L, C y las condiciones iniciales para las siguientes entradas: $i)$Impulso, $ii)$ Escalon unitario, y $iii)$ Rampa. Compruebe los resultados en simulación sobre Python y grafique la señal de salida para cada caso."
      ]
    },
    {
      "cell_type": "code",
      "metadata": {
        "id": "9jBh6eWsXHK-"
      },
      "source": [
        "%matplotlib inline\n",
        "import sympy as sym\n",
        "sym.init_printing()\n",
        "\n",
        "S = sym.symbols('S', complex=True)\n",
        "t = sym.symbols('t', real=True)"
      ],
      "execution_count": null,
      "outputs": []
    },
    {
      "cell_type": "markdown",
      "metadata": {
        "id": "72sGNNo4Ylc4"
      },
      "source": [
        "RLC serie:"
      ]
    },
    {
      "cell_type": "code",
      "metadata": {
        "id": "MnpLcBATYiwG",
        "colab": {
          "base_uri": "https://localhost:8080/",
          "height": 39
        },
        "outputId": "2d06e8c0-4bd4-4dd5-f7d6-8f54cb66d7f8"
      },
      "source": [
        "t, R, L, C = sym.symbols('t R L C', positive=True)\n",
        "\n",
        "H = 1/((L*C*S**2)+R*C*S+1)\n",
        "H"
      ],
      "execution_count": null,
      "outputs": [
        {
          "output_type": "execute_result",
          "data": {
            "image/png": "[encoded data removed]",
            "text/latex": "$$\\frac{1}{C L S^{2} + C R S + 1}$$",
            "text/plain": [
              "        1         \n",
              "──────────────────\n",
              "     2            \n",
              "C⋅L⋅S  + C⋅R⋅S + 1"
            ]
          },
          "metadata": {
            "tags": []
          },
          "execution_count": 4
        }
      ]
    },
    {
      "cell_type": "markdown",
      "metadata": {
        "id": "wgT1OOBwYrjg"
      },
      "source": [
        "$i)$ Respuesta al impulso"
      ]
    },
    {
      "cell_type": "code",
      "metadata": {
        "id": "JEVHZRJFYoyJ",
        "colab": {
          "base_uri": "https://localhost:8080/",
          "height": 88
        },
        "outputId": "62a084ee-238c-4d5d-a1a8-03da5487faed"
      },
      "source": [
        "a = sym.inverse_laplace_transform(H, S, t)\n",
        "a"
      ],
      "execution_count": null,
      "outputs": [
        {
          "output_type": "execute_result",
          "data": {
            "image/png": "[encoded data removed]",
            "text/latex": "$$\\frac{e^{- \\frac{R t}{2 L}}}{\\sqrt{C} \\sqrt{C R^{2} - 4 L}} \\left(i e^{\\frac{t \\sqrt{\\left|{C R^{2} - 4 L}\\right|}}{2 \\sqrt{C} L} \\cos{\\left (\\frac{1}{2} \\operatorname{atan_{2}}{\\left (0,C R^{2} - 4 L \\right )} \\right )}} \\sin{\\left (\\frac{t \\sqrt{\\left|{C R^{2} - 4 L}\\right|}}{2 \\sqrt{C} L} \\sin{\\left (\\frac{1}{2} \\operatorname{atan_{2}}{\\left (0,C R^{2} - 4 L \\right )} \\right )} \\right )} + e^{\\frac{t \\sqrt{\\left|{C R^{2} - 4 L}\\right|}}{2 \\sqrt{C} L} \\cos{\\left (\\frac{1}{2} \\operatorname{atan_{2}}{\\left (0,C R^{2} - 4 L \\right )} \\right )}} \\cos{\\left (\\frac{t \\sqrt{\\left|{C R^{2} - 4 L}\\right|}}{2 \\sqrt{C} L} \\sin{\\left (\\frac{1}{2} \\operatorname{atan_{2}}{\\left (0,C R^{2} - 4 L \\right )} \\right )} \\right )} + i e^{- \\frac{t \\sqrt{\\left|{C R^{2} - 4 L}\\right|}}{2 \\sqrt{C} L} \\cos{\\left (\\frac{1}{2} \\operatorname{atan_{2}}{\\left (0,C R^{2} - 4 L \\right )} \\right )}} \\sin{\\left (\\frac{t \\sqrt{\\left|{C R^{2} - 4 L}\\right|}}{2 \\sqrt{C} L} \\sin{\\left (\\frac{1}{2} \\operatorname{atan_{2}}{\\left (0,C R^{2} - 4 L \\right )} \\right )} \\right )} - e^{- \\frac{t \\sqrt{\\left|{C R^{2} - 4 L}\\right|}}{2 \\sqrt{C} L} \\cos{\\left (\\frac{1}{2} \\operatorname{atan_{2}}{\\left (0,C R^{2} - 4 L \\right )} \\right )}} \\cos{\\left (\\frac{t \\sqrt{\\left|{C R^{2} - 4 L}\\right|}}{2 \\sqrt{C} L} \\sin{\\left (\\frac{1}{2} \\operatorname{atan_{2}}{\\left (0,C R^{2} - 4 L \\right )} \\right )} \\right )}\\right)$$",
            "text/plain": [
              "⎛        ⎛     ⎛      2      ⎞⎞    ______________                             \n",
              "⎜        ⎜atan2⎝0, C⋅R  - 4⋅L⎠⎟   ╱ │   2      │                              \n",
              "⎜   t⋅cos⎜────────────────────⎟⋅╲╱  │C⋅R  - 4⋅L│     ⎛     ⎛     ⎛      2     \n",
              "⎜        ⎝         2          ⎠                      ⎜     ⎜atan2⎝0, C⋅R  - 4⋅\n",
              "⎜   ─────────────────────────────────────────────    ⎜t⋅sin⎜──────────────────\n",
              "⎜                       2⋅√C⋅L                       ⎜     ⎝         2        \n",
              "⎜ⅈ⋅ℯ                                             ⋅sin⎜────────────────────────\n",
              "⎝                                                    ⎝                    2⋅√C\n",
              "──────────────────────────────────────────────────────────────────────────────\n",
              "                                                                              \n",
              "                                                                              \n",
              "                                                                              \n",
              "\n",
              "                               ⎛     ⎛      2      ⎞⎞    ______________       \n",
              "                               ⎜atan2⎝0, C⋅R  - 4⋅L⎠⎟   ╱ │   2      │        \n",
              " ⎞⎞    ______________⎞    t⋅cos⎜────────────────────⎟⋅╲╱  │C⋅R  - 4⋅L│     ⎛  \n",
              "L⎠⎟   ╱ │   2      │ ⎟         ⎝         2          ⎠                      ⎜  \n",
              "──⎟⋅╲╱  │C⋅R  - 4⋅L│ ⎟    ─────────────────────────────────────────────    ⎜t⋅\n",
              "  ⎠                  ⎟                        2⋅√C⋅L                       ⎜  \n",
              "─────────────────────⎟ + ℯ                                             ⋅cos⎜──\n",
              "⋅L                   ⎠                                                     ⎝  \n",
              "──────────────────────────────────────────────────────────────────────────────\n",
              "                                                                              \n",
              "                                                                              \n",
              "                                                                              \n",
              "\n",
              "                                                        ⎛     ⎛      2      ⎞⎞\n",
              "                                                        ⎜atan2⎝0, C⋅R  - 4⋅L⎠⎟\n",
              "   ⎛     ⎛      2      ⎞⎞    ______________⎞      -t⋅cos⎜────────────────────⎟\n",
              "   ⎜atan2⎝0, C⋅R  - 4⋅L⎠⎟   ╱ │   2      │ ⎟            ⎝         2          ⎠\n",
              "sin⎜────────────────────⎟⋅╲╱  │C⋅R  - 4⋅L│ ⎟      ────────────────────────────\n",
              "   ⎝         2          ⎠                  ⎟                           2⋅√C⋅L \n",
              "───────────────────────────────────────────⎟ + ⅈ⋅ℯ                            \n",
              "                  2⋅√C⋅L                   ⎠                                  \n",
              "──────────────────────────────────────────────────────────────────────────────\n",
              "                                                ____________                  \n",
              "                                               ╱    2                         \n",
              "                                          √C⋅╲╱  C⋅R  - 4⋅L                   \n",
              "\n",
              "    ______________                                                            \n",
              "   ╱ │   2      │                                                             \n",
              "⋅╲╱  │C⋅R  - 4⋅L│      ⎛     ⎛     ⎛      2      ⎞⎞    ______________⎞    -t⋅c\n",
              "                       ⎜     ⎜atan2⎝0, C⋅R  - 4⋅L⎠⎟   ╱ │   2      │ ⎟        \n",
              "───────────────────    ⎜t⋅sin⎜────────────────────⎟⋅╲╱  │C⋅R  - 4⋅L│ ⎟    ────\n",
              "                       ⎜     ⎝         2          ⎠                  ⎟        \n",
              "                   ⋅sin⎜─────────────────────────────────────────────⎟ - ℯ    \n",
              "                       ⎝                    2⋅√C⋅L                   ⎠        \n",
              "──────────────────────────────────────────────────────────────────────────────\n",
              "                                                                              \n",
              "                                                                              \n",
              "                                                                              \n",
              "\n",
              "  ⎛     ⎛      2      ⎞⎞    ______________                                    \n",
              "  ⎜atan2⎝0, C⋅R  - 4⋅L⎠⎟   ╱ │   2      │                                     \n",
              "os⎜────────────────────⎟⋅╲╱  │C⋅R  - 4⋅L│      ⎛     ⎛     ⎛      2      ⎞⎞   \n",
              "  ⎝         2          ⎠                       ⎜     ⎜atan2⎝0, C⋅R  - 4⋅L⎠⎟   \n",
              "───────────────────────────────────────────    ⎜t⋅sin⎜────────────────────⎟⋅╲╱\n",
              "                 2⋅√C⋅L                        ⎜     ⎝         2          ⎠   \n",
              "                                           ⋅cos⎜──────────────────────────────\n",
              "                                               ⎝                    2⋅√C⋅L    \n",
              "──────────────────────────────────────────────────────────────────────────────\n",
              "                                                                              \n",
              "                                                                              \n",
              "                                                                              \n",
              "\n",
              "                ⎞       \n",
              "                ⎟       \n",
              " ______________⎞⎟       \n",
              "╱ │   2      │ ⎟⎟  -R⋅t \n",
              "  │C⋅R  - 4⋅L│ ⎟⎟  ─────\n",
              "               ⎟⎟   2⋅L \n",
              "───────────────⎟⎟⋅ℯ     \n",
              "               ⎠⎠       \n",
              "────────────────────────\n",
              "                        \n",
              "                        \n",
              "                        "
            ]
          },
          "metadata": {
            "tags": []
          },
          "execution_count": 7
        }
      ]
    },
    {
      "cell_type": "markdown",
      "metadata": {
        "id": "StWwcnQDZQDQ"
      },
      "source": [
        "$ii)$ Respuesta al escalón unitario:"
      ]
    },
    {
      "cell_type": "code",
      "metadata": {
        "id": "u_jPCo-WZMuo",
        "colab": {
          "base_uri": "https://localhost:8080/",
          "height": 78
        },
        "outputId": "21246904-05b4-4af2-ee8f-5901d5c37638"
      },
      "source": [
        "sym.inverse_laplace_transform(H*(1/S), S, t)"
      ],
      "execution_count": null,
      "outputs": [
        {
          "output_type": "execute_result",
          "data": {
            "image/png": "[encoded data removed]",
            "text/latex": "$$- \\frac{8 L^{2} e^{- \\frac{R t}{L}}}{\\left(\\sqrt{C} R - \\sqrt{C R^{2} - 4 L}\\right)^{2} \\left(\\sqrt{C} R + \\sqrt{C R^{2} - 4 L}\\right)^{2} \\sqrt{C R^{2} - 4 L}} \\left(i \\sqrt{C} R e^{\\frac{t}{2 L} \\left(R - \\frac{1}{\\sqrt{C}} \\cos{\\left (\\frac{1}{2} \\operatorname{atan_{2}}{\\left (0,C R^{2} - 4 L \\right )} \\right )} \\sqrt{\\left|{C R^{2} - 4 L}\\right|}\\right)} \\sin{\\left (\\frac{t \\sqrt{\\left|{C R^{2} - 4 L}\\right|}}{2 \\sqrt{C} L} \\sin{\\left (\\frac{1}{2} \\operatorname{atan_{2}}{\\left (0,C R^{2} - 4 L \\right )} \\right )} \\right )} - \\sqrt{C} R e^{\\frac{t}{2 L} \\left(R - \\frac{1}{\\sqrt{C}} \\cos{\\left (\\frac{1}{2} \\operatorname{atan_{2}}{\\left (0,C R^{2} - 4 L \\right )} \\right )} \\sqrt{\\left|{C R^{2} - 4 L}\\right|}\\right)} \\cos{\\left (\\frac{t \\sqrt{\\left|{C R^{2} - 4 L}\\right|}}{2 \\sqrt{C} L} \\sin{\\left (\\frac{1}{2} \\operatorname{atan_{2}}{\\left (0,C R^{2} - 4 L \\right )} \\right )} \\right )} + i \\sqrt{C} R e^{\\frac{t}{2 L} \\left(R + \\frac{1}{\\sqrt{C}} \\cos{\\left (\\frac{1}{2} \\operatorname{atan_{2}}{\\left (0,C R^{2} - 4 L \\right )} \\right )} \\sqrt{\\left|{C R^{2} - 4 L}\\right|}\\right)} \\sin{\\left (\\frac{t \\sqrt{\\left|{C R^{2} - 4 L}\\right|}}{2 \\sqrt{C} L} \\sin{\\left (\\frac{1}{2} \\operatorname{atan_{2}}{\\left (0,C R^{2} - 4 L \\right )} \\right )} \\right )} + \\sqrt{C} R e^{\\frac{t}{2 L} \\left(R + \\frac{1}{\\sqrt{C}} \\cos{\\left (\\frac{1}{2} \\operatorname{atan_{2}}{\\left (0,C R^{2} - 4 L \\right )} \\right )} \\sqrt{\\left|{C R^{2} - 4 L}\\right|}\\right)} \\cos{\\left (\\frac{t \\sqrt{\\left|{C R^{2} - 4 L}\\right|}}{2 \\sqrt{C} L} \\sin{\\left (\\frac{1}{2} \\operatorname{atan_{2}}{\\left (0,C R^{2} - 4 L \\right )} \\right )} \\right )} - 2 \\sqrt{C R^{2} - 4 L} e^{\\frac{R t}{L}} - i \\sqrt{C R^{2} - 4 L} e^{\\frac{t}{2 L} \\left(R - \\frac{1}{\\sqrt{C}} \\cos{\\left (\\frac{1}{2} \\operatorname{atan_{2}}{\\left (0,C R^{2} - 4 L \\right )} \\right )} \\sqrt{\\left|{C R^{2} - 4 L}\\right|}\\right)} \\sin{\\left (\\frac{t \\sqrt{\\left|{C R^{2} - 4 L}\\right|}}{2 \\sqrt{C} L} \\sin{\\left (\\frac{1}{2} \\operatorname{atan_{2}}{\\left (0,C R^{2} - 4 L \\right )} \\right )} \\right )} + \\sqrt{C R^{2} - 4 L} e^{\\frac{t}{2 L} \\left(R - \\frac{1}{\\sqrt{C}} \\cos{\\left (\\frac{1}{2} \\operatorname{atan_{2}}{\\left (0,C R^{2} - 4 L \\right )} \\right )} \\sqrt{\\left|{C R^{2} - 4 L}\\right|}\\right)} \\cos{\\left (\\frac{t \\sqrt{\\left|{C R^{2} - 4 L}\\right|}}{2 \\sqrt{C} L} \\sin{\\left (\\frac{1}{2} \\operatorname{atan_{2}}{\\left (0,C R^{2} - 4 L \\right )} \\right )} \\right )} + i \\sqrt{C R^{2} - 4 L} e^{\\frac{t}{2 L} \\left(R + \\frac{1}{\\sqrt{C}} \\cos{\\left (\\frac{1}{2} \\operatorname{atan_{2}}{\\left (0,C R^{2} - 4 L \\right )} \\right )} \\sqrt{\\left|{C R^{2} - 4 L}\\right|}\\right)} \\sin{\\left (\\frac{t \\sqrt{\\left|{C R^{2} - 4 L}\\right|}}{2 \\sqrt{C} L} \\sin{\\left (\\frac{1}{2} \\operatorname{atan_{2}}{\\left (0,C R^{2} - 4 L \\right )} \\right )} \\right )} + \\sqrt{C R^{2} - 4 L} e^{\\frac{t}{2 L} \\left(R + \\frac{1}{\\sqrt{C}} \\cos{\\left (\\frac{1}{2} \\operatorname{atan_{2}}{\\left (0,C R^{2} - 4 L \\right )} \\right )} \\sqrt{\\left|{C R^{2} - 4 L}\\right|}\\right)} \\cos{\\left (\\frac{t \\sqrt{\\left|{C R^{2} - 4 L}\\right|}}{2 \\sqrt{C} L} \\sin{\\left (\\frac{1}{2} \\operatorname{atan_{2}}{\\left (0,C R^{2} - 4 L \\right )} \\right )} \\right )}\\right)$$",
            "text/plain": [
              "      ⎛          ⎛       ⎛     ⎛      2      ⎞⎞    ______________⎞            \n",
              "      ⎜          ⎜       ⎜atan2⎝0, C⋅R  - 4⋅L⎠⎟   ╱ │   2      │ ⎟            \n",
              "      ⎜          ⎜    cos⎜────────────────────⎟⋅╲╱  │C⋅R  - 4⋅L│ ⎟            \n",
              "      ⎜          ⎜       ⎝         2          ⎠                  ⎟            \n",
              "      ⎜        t⋅⎜R - ───────────────────────────────────────────⎟    ⎛     ⎛ \n",
              "      ⎜          ⎝                         √C                    ⎠    ⎜     ⎜a\n",
              "      ⎜        ───────────────────────────────────────────────────    ⎜t⋅sin⎜─\n",
              "    2 ⎜                                2⋅L                            ⎜     ⎝ \n",
              "-8⋅L ⋅⎜ⅈ⋅√C⋅R⋅ℯ                                                   ⋅sin⎜───────\n",
              "      ⎝                                                               ⎝       \n",
              "──────────────────────────────────────────────────────────────────────────────\n",
              "                                                                              \n",
              "                                                                              \n",
              "                                                                              \n",
              "                                                                              \n",
              "\n",
              "                                                  ⎛       ⎛     ⎛      2      \n",
              "                                                  ⎜       ⎜atan2⎝0, C⋅R  - 4⋅L\n",
              "                                                  ⎜    cos⎜───────────────────\n",
              "                                                  ⎜       ⎝         2         \n",
              "    ⎛      2      ⎞⎞    ______________⎞         t⋅⎜R - ───────────────────────\n",
              "tan2⎝0, C⋅R  - 4⋅L⎠⎟   ╱ │   2      │ ⎟           ⎝                         √C\n",
              "───────────────────⎟⋅╲╱  │C⋅R  - 4⋅L│ ⎟         ──────────────────────────────\n",
              "        2          ⎠                  ⎟                                 2⋅L   \n",
              "──────────────────────────────────────⎟ - √C⋅R⋅ℯ                              \n",
              "             2⋅√C⋅L                   ⎠                                       \n",
              "──────────────────────────────────────────────────────────────────────────────\n",
              "                                                                              \n",
              "                                                                              \n",
              "                                                                              \n",
              "                                                                              \n",
              "\n",
              "⎞⎞    ______________⎞                                                         \n",
              "⎠⎟   ╱ │   2      │ ⎟                                                         \n",
              "─⎟⋅╲╱  │C⋅R  - 4⋅L│ ⎟                                                         \n",
              " ⎠                  ⎟                                                         \n",
              "────────────────────⎟    ⎛     ⎛     ⎛      2      ⎞⎞    ______________⎞      \n",
              "                    ⎠    ⎜     ⎜atan2⎝0, C⋅R  - 4⋅L⎠⎟   ╱ │   2      │ ⎟      \n",
              "─────────────────────    ⎜t⋅sin⎜────────────────────⎟⋅╲╱  │C⋅R  - 4⋅L│ ⎟      \n",
              "                         ⎜     ⎝         2          ⎠                  ⎟      \n",
              "                     ⋅cos⎜─────────────────────────────────────────────⎟ + ⅈ⋅√\n",
              "                         ⎝                    2⋅√C⋅L                   ⎠      \n",
              "──────────────────────────────────────────────────────────────────────────────\n",
              "                                                                              \n",
              "                                                                              \n",
              "                                                                              \n",
              "                                                                              \n",
              "\n",
              "       ⎛       ⎛     ⎛      2      ⎞⎞    ______________⎞                      \n",
              "       ⎜       ⎜atan2⎝0, C⋅R  - 4⋅L⎠⎟   ╱ │   2      │ ⎟                      \n",
              "       ⎜    cos⎜────────────────────⎟⋅╲╱  │C⋅R  - 4⋅L│ ⎟                      \n",
              "       ⎜       ⎝         2          ⎠                  ⎟                      \n",
              "     t⋅⎜R + ───────────────────────────────────────────⎟    ⎛     ⎛     ⎛     \n",
              "       ⎝                         √C                    ⎠    ⎜     ⎜atan2⎝0, C⋅\n",
              "     ───────────────────────────────────────────────────    ⎜t⋅sin⎜───────────\n",
              "                             2⋅L                            ⎜     ⎝         2 \n",
              "C⋅R⋅ℯ                                                   ⋅sin⎜─────────────────\n",
              "                                                            ⎝                 \n",
              "──────────────────────────────────────────────────────────────────────────────\n",
              "                                                                              \n",
              "                                                                              \n",
              "                                                                              \n",
              "                                                                              \n",
              "\n",
              "                                        ⎛       ⎛     ⎛      2      ⎞⎞    ____\n",
              "                                        ⎜       ⎜atan2⎝0, C⋅R  - 4⋅L⎠⎟   ╱ │  \n",
              "                                        ⎜    cos⎜────────────────────⎟⋅╲╱  │C⋅\n",
              "                                        ⎜       ⎝         2          ⎠        \n",
              " 2      ⎞⎞    ______________⎞         t⋅⎜R + ─────────────────────────────────\n",
              "R  - 4⋅L⎠⎟   ╱ │   2      │ ⎟           ⎝                         √C          \n",
              "─────────⎟⋅╲╱  │C⋅R  - 4⋅L│ ⎟         ────────────────────────────────────────\n",
              "         ⎠                  ⎟                                 2⋅L             \n",
              "────────────────────────────⎟ + √C⋅R⋅ℯ                                        \n",
              "   2⋅√C⋅L                   ⎠                                                 \n",
              "──────────────────────────────────────────────────────────────────────────────\n",
              "                                                                              \n",
              "                                                                              \n",
              "                                                                              \n",
              "                                                                              \n",
              "\n",
              "__________⎞                                                                   \n",
              " 2      │ ⎟                                                                   \n",
              "R  - 4⋅L│ ⎟                                                                   \n",
              "          ⎟                                                                   \n",
              "──────────⎟    ⎛     ⎛     ⎛      2      ⎞⎞    ______________⎞                \n",
              "          ⎠    ⎜     ⎜atan2⎝0, C⋅R  - 4⋅L⎠⎟   ╱ │   2      │ ⎟                \n",
              "───────────    ⎜t⋅sin⎜────────────────────⎟⋅╲╱  │C⋅R  - 4⋅L│ ⎟        ________\n",
              "               ⎜     ⎝         2          ⎠                  ⎟       ╱    2   \n",
              "           ⋅cos⎜─────────────────────────────────────────────⎟ - 2⋅╲╱  C⋅R  - \n",
              "               ⎝                    2⋅√C⋅L                   ⎠                \n",
              "──────────────────────────────────────────────────────────────────────────────\n",
              "                                                                              \n",
              "                                                                 ⎛          __\n",
              "                                                                 ⎜         ╱  \n",
              "                                                                 ⎝√C⋅R - ╲╱  C\n",
              "\n",
              "                                 ⎛       ⎛     ⎛      2      ⎞⎞    ___________\n",
              "                                 ⎜       ⎜atan2⎝0, C⋅R  - 4⋅L⎠⎟   ╱ │   2     \n",
              "                                 ⎜    cos⎜────────────────────⎟⋅╲╱  │C⋅R  - 4⋅\n",
              "                                 ⎜       ⎝         2          ⎠               \n",
              "                               t⋅⎜R - ────────────────────────────────────────\n",
              "      R⋅t                        ⎝                         √C                 \n",
              "____  ───        ____________  ───────────────────────────────────────────────\n",
              "       L        ╱    2                                 2⋅L                    \n",
              "4⋅L ⋅ℯ    - ⅈ⋅╲╱  C⋅R  - 4⋅L ⋅ℯ                                               \n",
              "                                                                              \n",
              "──────────────────────────────────────────────────────────────────────────────\n",
              "           2                         2                                        \n",
              "__________⎞  ⎛          ____________⎞     ____________                        \n",
              "  2       ⎟  ⎜         ╱    2       ⎟    ╱    2                               \n",
              "⋅R  - 4⋅L ⎠ ⋅⎝√C⋅R + ╲╱  C⋅R  - 4⋅L ⎠ ⋅╲╱  C⋅R  - 4⋅L                         \n",
              "\n",
              "___⎞                                                                         ⎛\n",
              " │ ⎟                                                                         ⎜\n",
              "L│ ⎟                                                                         ⎜\n",
              "   ⎟                                                                         ⎜\n",
              "───⎟    ⎛     ⎛     ⎛      2      ⎞⎞    ______________⎞                    t⋅⎜\n",
              "   ⎠    ⎜     ⎜atan2⎝0, C⋅R  - 4⋅L⎠⎟   ╱ │   2      │ ⎟                      ⎝\n",
              "────    ⎜t⋅sin⎜────────────────────⎟⋅╲╱  │C⋅R  - 4⋅L│ ⎟      ____________  ───\n",
              "        ⎜     ⎝         2          ⎠                  ⎟     ╱    2            \n",
              "    ⋅sin⎜─────────────────────────────────────────────⎟ + ╲╱  C⋅R  - 4⋅L ⋅ℯ   \n",
              "        ⎝                    2⋅√C⋅L                   ⎠                       \n",
              "──────────────────────────────────────────────────────────────────────────────\n",
              "                                                                              \n",
              "                                                                              \n",
              "                                                                              \n",
              "                                                                              \n",
              "\n",
              "       ⎛     ⎛      2      ⎞⎞    ______________⎞                              \n",
              "       ⎜atan2⎝0, C⋅R  - 4⋅L⎠⎟   ╱ │   2      │ ⎟                              \n",
              "    cos⎜────────────────────⎟⋅╲╱  │C⋅R  - 4⋅L│ ⎟                              \n",
              "       ⎝         2          ⎠                  ⎟                              \n",
              "R - ───────────────────────────────────────────⎟    ⎛     ⎛     ⎛      2      \n",
              "                         √C                    ⎠    ⎜     ⎜atan2⎝0, C⋅R  - 4⋅L\n",
              "────────────────────────────────────────────────    ⎜t⋅sin⎜───────────────────\n",
              "                     2⋅L                            ⎜     ⎝         2         \n",
              "                                                ⋅cos⎜─────────────────────────\n",
              "                                                    ⎝                    2⋅√C⋅\n",
              "──────────────────────────────────────────────────────────────────────────────\n",
              "                                                                              \n",
              "                                                                              \n",
              "                                                                              \n",
              "                                                                              \n",
              "\n",
              "                                             ⎛       ⎛     ⎛      2      ⎞⎞   \n",
              "                                             ⎜       ⎜atan2⎝0, C⋅R  - 4⋅L⎠⎟   \n",
              "                                             ⎜    cos⎜────────────────────⎟⋅╲╱\n",
              "                                             ⎜       ⎝         2          ⎠   \n",
              "⎞⎞    ______________⎞                      t⋅⎜R + ────────────────────────────\n",
              "⎠⎟   ╱ │   2      │ ⎟                        ⎝                         √C     \n",
              "─⎟⋅╲╱  │C⋅R  - 4⋅L│ ⎟        ____________  ───────────────────────────────────\n",
              " ⎠                  ⎟       ╱    2                                 2⋅L        \n",
              "────────────────────⎟ + ⅈ⋅╲╱  C⋅R  - 4⋅L ⋅ℯ                                   \n",
              "L                   ⎠                                                         \n",
              "──────────────────────────────────────────────────────────────────────────────\n",
              "                                                                              \n",
              "                                                                              \n",
              "                                                                              \n",
              "                                                                              \n",
              "\n",
              " ______________⎞                                                              \n",
              "╱ │   2      │ ⎟                                                              \n",
              "  │C⋅R  - 4⋅L│ ⎟                                                              \n",
              "               ⎟                                                              \n",
              "───────────────⎟    ⎛     ⎛     ⎛      2      ⎞⎞    ______________⎞           \n",
              "               ⎠    ⎜     ⎜atan2⎝0, C⋅R  - 4⋅L⎠⎟   ╱ │   2      │ ⎟           \n",
              "────────────────    ⎜t⋅sin⎜────────────────────⎟⋅╲╱  │C⋅R  - 4⋅L│ ⎟      _____\n",
              "                    ⎜     ⎝         2          ⎠                  ⎟     ╱    2\n",
              "                ⋅sin⎜─────────────────────────────────────────────⎟ + ╲╱  C⋅R \n",
              "                    ⎝                    2⋅√C⋅L                   ⎠           \n",
              "──────────────────────────────────────────────────────────────────────────────\n",
              "                                                                              \n",
              "                                                                              \n",
              "                                                                              \n",
              "                                                                              \n",
              "\n",
              "           ⎛       ⎛     ⎛      2      ⎞⎞    ______________⎞                  \n",
              "           ⎜       ⎜atan2⎝0, C⋅R  - 4⋅L⎠⎟   ╱ │   2      │ ⎟                  \n",
              "           ⎜    cos⎜────────────────────⎟⋅╲╱  │C⋅R  - 4⋅L│ ⎟                  \n",
              "           ⎜       ⎝         2          ⎠                  ⎟                  \n",
              "         t⋅⎜R + ───────────────────────────────────────────⎟    ⎛     ⎛     ⎛ \n",
              "           ⎝                         √C                    ⎠    ⎜     ⎜atan2⎝0\n",
              "_______  ───────────────────────────────────────────────────    ⎜t⋅sin⎜───────\n",
              "                                 2⋅L                            ⎜     ⎝       \n",
              " - 4⋅L ⋅ℯ                                                   ⋅cos⎜─────────────\n",
              "                                                                ⎝             \n",
              "──────────────────────────────────────────────────────────────────────────────\n",
              "                                                                              \n",
              "                                                                              \n",
              "                                                                              \n",
              "                                                                              \n",
              "\n",
              "                                 ⎞        \n",
              "                                 ⎟        \n",
              "                                 ⎟        \n",
              "                                 ⎟        \n",
              "     2      ⎞⎞    ______________⎞⎟        \n",
              ", C⋅R  - 4⋅L⎠⎟   ╱ │   2      │ ⎟⎟  -R⋅t  \n",
              "─────────────⎟⋅╲╱  │C⋅R  - 4⋅L│ ⎟⎟  ───── \n",
              "  2          ⎠                  ⎟⎟    L   \n",
              "────────────────────────────────⎟⎟⋅ℯ      \n",
              "       2⋅√C⋅L                   ⎠⎠        \n",
              "──────────────────────────────────────────\n",
              "                                          \n",
              "                                          \n",
              "                                          \n",
              "                                          "
            ]
          },
          "metadata": {
            "tags": []
          },
          "execution_count": 4
        }
      ]
    },
    {
      "cell_type": "markdown",
      "metadata": {
        "id": "ZzdBjuy5ZZwl"
      },
      "source": [
        "$iii)$ Respuesta a la rampa:"
      ]
    },
    {
      "cell_type": "code",
      "metadata": {
        "id": "dLxpPYVlZW2h",
        "colab": {
          "base_uri": "https://localhost:8080/",
          "height": 39
        },
        "outputId": "02328c4b-cdf0-4961-d5e6-960ab5af7973"
      },
      "source": [
        "sym.inverse_laplace_transform(H*(1/S**2), S, t)"
      ],
      "execution_count": null,
      "outputs": [
        {
          "output_type": "execute_result",
          "data": {
            "image/png": "[encoded data removed]",
            "text/latex": "$$\\mathcal{L}^{-1}_{S}\\left[\\frac{1}{C L S^{4} + C R S^{3} + S^{2}}\\right]\\left(t\\right)$$",
            "text/plain": [
              "                       ⎛         1                      ⎞\n",
              "InverseLaplaceTransform⎜────────────────────, S, t, None⎟\n",
              "                       ⎜     4        3    2            ⎟\n",
              "                       ⎝C⋅L⋅S  + C⋅R⋅S  + S             ⎠"
            ]
          },
          "metadata": {
            "tags": []
          },
          "execution_count": 6
        }
      ]
    }
  ]
}