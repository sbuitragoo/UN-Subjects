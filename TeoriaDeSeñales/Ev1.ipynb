{
  "nbformat": 4,
  "nbformat_minor": 0,
  "metadata": {
    "colab": {
      "name": "Ev1.ipynb",
      "provenance": [],
      "collapsed_sections": [
        "8bhmIl1gyjXu",
        "tf2EzocRpX-D",
        "jjWyy0iAtnHt",
        "dqTucENjiSOO",
        "aNGoXfOeldSS",
        "-4MsPqKHn7b2",
        "AfB4uyo7y0np",
        "WCtWhhnj2a-H"
      ],
      "authorship_tag": "ABX9TyNuYe3aFnXcDWWfy1oMMNGr",
      "include_colab_link": true
    },
    "kernelspec": {
      "name": "python3",
      "display_name": "Python 3"
    },
    "language_info": {
      "name": "python"
    }
  },
  "cells": [
    {
      "cell_type": "markdown",
      "metadata": {
        "id": "view-in-github",
        "colab_type": "text"
      },
      "source": [
        "<a href=\"https://colab.research.google.com/github/sbuitragoo/UN-Subjects/blob/main/TeoriaDeSe%C3%B1ales/Ev1.ipynb\" target=\"_parent\"><img src=\"https://colab.research.google.com/assets/colab-badge.svg\" alt=\"Open In Colab\"/></a>"
      ]
    },
    {
      "cell_type": "markdown",
      "metadata": {
        "id": "WASkzwDBh2_J"
      },
      "source": [
        "# Evaluación #1 Teoría de Señales 2021-1\n",
        "\n",
        "A continuación se presentan 3 circuitos, los cuales serán repartidos de manera aleatoria entre los integrantes del grupo y para los cuales se darán una serie de instrucciones."
      ]
    },
    {
      "cell_type": "markdown",
      "metadata": {
        "id": "8bhmIl1gyjXu"
      },
      "source": [
        "## Instrucciones"
      ]
    },
    {
      "cell_type": "markdown",
      "metadata": {
        "id": "xwXUz17OrQyS"
      },
      "source": [
        "Para el sistema asignado se requiere:\n",
        "\n",
        "1. Para el pulso cuadrado dado, halle el espectro.\n",
        "1. Poner el pulso a la entrada del sistema, hallar su salida, el espectro de esta y su histograma.\n",
        "1. Crear ruido blanco gaussiano, sumarlo a la señal y modularla.\n",
        "1. Realizar la respectiva demodulación y dibujar su histograma nuevamente.\n",
        "1. Hallar la `cross correlacióón` entre la señal inicial sin ruido y la señal demodulada, así como `la densidad espectral de potencia`."
      ]
    },
    {
      "cell_type": "markdown",
      "metadata": {
        "id": "tf2EzocRpX-D"
      },
      "source": [
        "## Librerías, Simbolos y Funciones"
      ]
    },
    {
      "cell_type": "code",
      "metadata": {
        "id": "DmPk6XghiViB"
      },
      "source": [
        "from sympy.solvers import solve_linear_system\n",
        "from sympy import Symbol\n",
        "import sympy as sym\n",
        "from scipy.signal import lti\n",
        "from scipy.fftpack import fft, fftfreq, fftshift\n",
        "import matplotlib.pyplot as plt\n",
        "from scipy import signal\n",
        "from scipy.integrate import cumtrapz\n",
        "import numpy as np\n",
        "from sympy.matrices import Matrix\n",
        "from scipy.fftpack import fft\n",
        "import warnings\n",
        "import random\n",
        "warnings.filterwarnings(\"ignore\")"
      ],
      "execution_count": null,
      "outputs": []
    },
    {
      "cell_type": "code",
      "metadata": {
        "id": "qBoq2sN1jPmW"
      },
      "source": [
        "R1 = Symbol('R1')\n",
        "R2 = Symbol('R2')\n",
        "R3 = Symbol('R3')\n",
        "C1 = Symbol('C1')\n",
        "C2 = Symbol('C2')\n",
        "\n",
        "I1 = Symbol('I1')\n",
        "I2 = Symbol('I2')\n",
        "I3 = Symbol('I3')\n",
        "\n",
        "x = Symbol('x')\n",
        "\n",
        "jw = Symbol('jw')"
      ],
      "execution_count": null,
      "outputs": []
    },
    {
      "cell_type": "markdown",
      "metadata": {
        "id": "jjWyy0iAtnHt"
      },
      "source": [
        "### Pulso Cuadrado"
      ]
    },
    {
      "cell_type": "code",
      "metadata": {
        "id": "SexT2sslttgy"
      },
      "source": [
        "def pulse(t, width=0.5):\n",
        "    \"\"\"\n",
        "    A partir de un vector de tiempo retorna un pulso centralizado con un ancho proporcional al soporte de tiempo.\n",
        "    \n",
        "    t: vector de tiempo\n",
        "    width: ancho del pulso\n",
        "    \"\"\"\n",
        "    width /= 2\n",
        "    \n",
        "    return t,np.array(np.array(0 < t, dtype=np.int) * np.array((t <0.5), dtype=np.int))"
      ],
      "execution_count": null,
      "outputs": []
    },
    {
      "cell_type": "markdown",
      "metadata": {
        "id": "dqTucENjiSOO"
      },
      "source": [
        "## Circuito #1"
      ]
    },
    {
      "cell_type": "markdown",
      "metadata": {
        "id": "rKHoYKuXqX8v"
      },
      "source": [
        "A continuacióón se encuentra el modelado del circuito"
      ]
    },
    {
      "cell_type": "code",
      "metadata": {
        "id": "7UVc_LxgXAzk"
      },
      "source": [
        "M_c1 = Matrix([[R2+1/(C2*jw), 0, -R2], [0, R3+1/(C1*jw), -1/(C1*jw)], [-R2, -1/(C1*jw), R1+R2+1/(C1*jw)]])\n",
        "I_c1 = Matrix([I1, I2, I3])\n",
        "V_c1 = Matrix([x, 0, 0])\n",
        "\n",
        "solution_c1 = solve_linear_system(M_c1.col_insert(3, V_c1), *I_c1)\n",
        "\n",
        "y_c1 = R1*solution_c1[I3]\n",
        "\n",
        "S_c1 = M_c1*Matrix(list(solution_c1.values()))\n",
        "\n",
        "X_c1 = S_c1.row(0).col(0)\n",
        "\n",
        "H_c1 = y_c1/X_c1[0,0]\n",
        "\n",
        "Hw_c1 = H_c1.simplify()\n",
        "\n",
        "expr_num_c1, expr_den_c1 = H_c1.simplify().as_numer_denom()\n",
        "\n",
        "num_coeffs_c1 = sym.poly(-expr_num_c1, jw).all_coeffs()\n",
        "\n",
        "den_coeffs_c1 = sym.poly(-expr_den_c1, jw).all_coeffs()\n",
        "\n",
        "R1 = 10000\n",
        "R2 = 10000\n",
        "R3 = 10000\n",
        "C1 = 1*10**-4\n",
        "C2 = 1*10**-4\n",
        "\n",
        "num_c1 = [C1*C2*R1*R2*R3, C2*R1*R2,]\n",
        "den_c1 = [C1*C2*R1*R2*R3, ((C1*R1*R3) + (C1*R2*R3) + (C2*R1*R2) + (C2*R2*R3)), R1 + R2 + R3]\n",
        "\n",
        "lti_system_c1 = lti(num_c1, den_c1)"
      ],
      "execution_count": null,
      "outputs": []
    },
    {
      "cell_type": "markdown",
      "metadata": {
        "id": "aNGoXfOeldSS"
      },
      "source": [
        "## Circuito #2"
      ]
    },
    {
      "cell_type": "markdown",
      "metadata": {
        "id": "uDHOAIE1ySzX"
      },
      "source": [
        "A continuacióón se encuentra el modelado del circuito"
      ]
    },
    {
      "cell_type": "code",
      "metadata": {
        "id": "pr9rcZgnlgf6"
      },
      "source": [
        "M_c2 = Matrix([[R1+R3+1/(C1*jw), -1/(C1*jw)], [-1/(C1*jw), R2+1/(C1*jw)]])\n",
        "V_c2 = Matrix([x, 0])\n",
        "I_c2 = Matrix([I1, I2])\n",
        "\n",
        "solution_c2 = solve_linear_system(M_c2.col_insert(2, V_c2), *I_c2)\n",
        "\n",
        "y_c2 = R1*solution_c2[I1]/x\n",
        "\n",
        "expr_num_c2, expr_den_c2 = y_c2.simplify().as_numer_denom() \n",
        "\n",
        "num_coeffs_c2 = sym.poly(-expr_num_c2, jw).all_coeffs() \n",
        "\n",
        "den_coeffs = sym.poly(-expr_den_c2, jw).all_coeffs() \n",
        "\n",
        "C1=4.7e-9\n",
        "R1=150e3\n",
        "R2=220e3\n",
        "R3=100e3\n",
        "\n",
        "num_c2 = [-C1*R1*R2, -R1]\n",
        "den_c2 = [-C1*R1*R2 - C1*R2*R3, -R1 - R2 - R3]\n",
        "\n",
        "lti_system_c2 = lti(num_c2,den_c2)"
      ],
      "execution_count": null,
      "outputs": []
    },
    {
      "cell_type": "markdown",
      "metadata": {
        "id": "-4MsPqKHn7b2"
      },
      "source": [
        "## Circuito #3"
      ]
    },
    {
      "cell_type": "markdown",
      "metadata": {
        "id": "gHMc_NPnyUdQ"
      },
      "source": [
        "A continuacióón se encuentra el modelado del circuito"
      ]
    },
    {
      "cell_type": "code",
      "metadata": {
        "id": "zSwTzrrPn9Li"
      },
      "source": [
        "M_c3 = Matrix([R2+R1+1/(C1*jw)])\n",
        "I_c3 = Matrix([I1])\n",
        "V_c3 = Matrix([x])\n",
        "\n",
        "solution_c3 = solve_linear_system(M_c3.col_insert(1, V_c3), *I_c3)\n",
        "\n",
        "Y_c3 = (R1+1/(C1*jw))*solution_c3[I1]\n",
        "\n",
        "S_c3 = M_c3*Matrix(list(solution_c3.values()))\n",
        "\n",
        "X_c3 = S_c3.row(0).col(0) \n",
        "\n",
        "H_c3 = Y_c3/X_c3[0,0] \n",
        "Hw_c3 = H_c3.simplify()\n",
        "\n",
        "expr_num_c3, expr_den_c3 = H_c3.simplify().as_numer_denom()\n",
        "\n",
        "num_coeffs_c3 = sym.poly(-expr_num_c3, jw).all_coeffs() \n",
        "\n",
        "den_coeffs_c3 = sym.poly(-expr_den_c3, jw).all_coeffs() \n",
        "\n",
        "R1 = 5000\n",
        "R2 = 10000\n",
        "C1 = 1*10**-4\n",
        "\n",
        "num_c3 = [-C1*R1, -1] \n",
        "den_c3 = [-C1*R1 - C1*R2, -1] \n",
        "\n",
        "lti_system_c3 = lti(num_c3, den_c3)"
      ],
      "execution_count": null,
      "outputs": []
    },
    {
      "cell_type": "markdown",
      "metadata": {
        "id": "AfB4uyo7y0np"
      },
      "source": [
        "## Asignación"
      ]
    },
    {
      "cell_type": "code",
      "metadata": {
        "id": "WfzgzwMzy66w"
      },
      "source": [
        "estudiantes = [1,2,3]\n",
        "\n",
        "circuitos = ['Circuito 1', 'Circuito 2', 'Circuito 3']\n",
        "\n",
        "modulaciones = ['AM','FM','PWM']\n",
        "\n",
        "asig = 'El circuito correspondiente al estudiante {} es el {} y la modulación a trabajar será {}'\n",
        "\n",
        "for i in estudiantes:\n",
        "  print(asig.format(i,\n",
        "                  random.sample(circuitos,k=1),\n",
        "                 random.sample(modulaciones,k=1)))"
      ],
      "execution_count": null,
      "outputs": []
    },
    {
      "cell_type": "markdown",
      "metadata": {
        "id": "WCtWhhnj2a-H"
      },
      "source": [
        "## Solución\n",
        "\n",
        "Utilice la función interactiva proporcionada para mostrar los resultados y variar los parametros indicados por el profesor."
      ]
    },
    {
      "cell_type": "code",
      "metadata": {
        "id": "H9Zh-LHT2dGg"
      },
      "source": [
        "from ipywidgets import interact\n",
        "\n",
        "#@interact(x=(inicio, fin, paso))\n",
        "#def interactive(x = inicio):"
      ],
      "execution_count": null,
      "outputs": []
    }
  ]
}