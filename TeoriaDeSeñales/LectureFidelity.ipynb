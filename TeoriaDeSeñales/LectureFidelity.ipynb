{
  "nbformat": 4,
  "nbformat_minor": 0,
  "metadata": {
    "colab": {
      "name": "LectureFidelity.ipynb",
      "provenance": [],
      "collapsed_sections": [
        "voQHEQ2zaE48"
      ],
      "authorship_tag": "ABX9TyMT2nE5rizB6ZFptYXCk5vi",
      "include_colab_link": true
    },
    "kernelspec": {
      "name": "python3",
      "display_name": "Python 3"
    },
    "language_info": {
      "name": "python"
    }
  },
  "cells": [
    {
      "cell_type": "markdown",
      "metadata": {
        "id": "view-in-github",
        "colab_type": "text"
      },
      "source": [
        "<a href=\"https://colab.research.google.com/github/sbuitragoo/UN-Subjects/blob/main/TeoriaDeSe%C3%B1ales/LectureFidelity.ipynb\" target=\"_parent\"><img src=\"https://colab.research.google.com/assets/colab-badge.svg\" alt=\"Open In Colab\"/></a>"
      ]
    },
    {
      "cell_type": "markdown",
      "metadata": {
        "id": "voQHEQ2zaE48"
      },
      "source": [
        "#."
      ]
    },
    {
      "cell_type": "code",
      "metadata": {
        "colab": {
          "base_uri": "https://localhost:8080/"
        },
        "id": "0J7DFd_IZyqb",
        "outputId": "43c0c420-ed42-4a83-c710-5d73ce5b7906"
      },
      "source": [
        "#cargar datos desde drive acceso libre\n",
        "FILEID = \"10ODQOOCwpH5m-_IniqlXSsWv7JybWKbN\"\n",
        "!wget --load-cookies /tmp/cookies.txt \"https://docs.google.com/uc?export=download&confirm=$(wget --quiet --save-cookies /tmp/cookies.txt --keep-session-cookies --no-check-certificate 'https://docs.google.com/uc?export=download&id='$FILEID -O- | sed -rn 's/.*confirm=([0-9A-Za-z_]+).*/\\1\\n/p')&id=\"$FILEID -O codigos.zip && rm -rf /tmp/cookies.txt\n",
        "!unzip codigos.zip\n",
        "!dir"
      ],
      "execution_count": null,
      "outputs": [
        {
          "output_type": "stream",
          "text": [
            "--2021-05-11 19:48:22--  https://docs.google.com/uc?export=download&confirm=&id=10ODQOOCwpH5m-_IniqlXSsWv7JybWKbN\n",
            "Resolving docs.google.com (docs.google.com)... 108.177.126.113, 108.177.126.100, 108.177.126.101, ...\n",
            "Connecting to docs.google.com (docs.google.com)|108.177.126.113|:443... connected.\n",
            "HTTP request sent, awaiting response... 302 Moved Temporarily\n",
            "Location: https://doc-08-88-docs.googleusercontent.com/docs/securesc/irt8u34p53fs82jn0ilqit7aqgogo4kp/8nm9mrkf4hu3vra11n0fr8mn8bh26r4a/1620762450000/05832326107551052745/08526570373947805344Z/10ODQOOCwpH5m-_IniqlXSsWv7JybWKbN?e=download [following]\n",
            "--2021-05-11 19:48:25--  https://doc-08-88-docs.googleusercontent.com/docs/securesc/irt8u34p53fs82jn0ilqit7aqgogo4kp/8nm9mrkf4hu3vra11n0fr8mn8bh26r4a/1620762450000/05832326107551052745/08526570373947805344Z/10ODQOOCwpH5m-_IniqlXSsWv7JybWKbN?e=download\n",
            "Resolving doc-08-88-docs.googleusercontent.com (doc-08-88-docs.googleusercontent.com)... 108.177.126.132, 2a00:1450:4013:c01::84\n",
            "Connecting to doc-08-88-docs.googleusercontent.com (doc-08-88-docs.googleusercontent.com)|108.177.126.132|:443... connected.\n",
            "HTTP request sent, awaiting response... 302 Found\n",
            "Location: https://docs.google.com/nonceSigner?nonce=u6kmln8dm82vs&continue=https://doc-08-88-docs.googleusercontent.com/docs/securesc/irt8u34p53fs82jn0ilqit7aqgogo4kp/8nm9mrkf4hu3vra11n0fr8mn8bh26r4a/1620762450000/05832326107551052745/08526570373947805344Z/10ODQOOCwpH5m-_IniqlXSsWv7JybWKbN?e%3Ddownload&hash=peaaoqnfepfnbucivg0910bld8bhbtes [following]\n",
            "--2021-05-11 19:48:25--  https://docs.google.com/nonceSigner?nonce=u6kmln8dm82vs&continue=https://doc-08-88-docs.googleusercontent.com/docs/securesc/irt8u34p53fs82jn0ilqit7aqgogo4kp/8nm9mrkf4hu3vra11n0fr8mn8bh26r4a/1620762450000/05832326107551052745/08526570373947805344Z/10ODQOOCwpH5m-_IniqlXSsWv7JybWKbN?e%3Ddownload&hash=peaaoqnfepfnbucivg0910bld8bhbtes\n",
            "Connecting to docs.google.com (docs.google.com)|108.177.126.113|:443... connected.\n",
            "HTTP request sent, awaiting response... 302 Found\n",
            "Location: https://doc-08-88-docs.googleusercontent.com/docs/securesc/irt8u34p53fs82jn0ilqit7aqgogo4kp/8nm9mrkf4hu3vra11n0fr8mn8bh26r4a/1620762450000/05832326107551052745/08526570373947805344Z/10ODQOOCwpH5m-_IniqlXSsWv7JybWKbN?e=download&nonce=u6kmln8dm82vs&user=08526570373947805344Z&hash=taqbc8qq68obm83rtafneg44etk8g1qf [following]\n",
            "--2021-05-11 19:48:25--  https://doc-08-88-docs.googleusercontent.com/docs/securesc/irt8u34p53fs82jn0ilqit7aqgogo4kp/8nm9mrkf4hu3vra11n0fr8mn8bh26r4a/1620762450000/05832326107551052745/08526570373947805344Z/10ODQOOCwpH5m-_IniqlXSsWv7JybWKbN?e=download&nonce=u6kmln8dm82vs&user=08526570373947805344Z&hash=taqbc8qq68obm83rtafneg44etk8g1qf\n",
            "Connecting to doc-08-88-docs.googleusercontent.com (doc-08-88-docs.googleusercontent.com)|108.177.126.132|:443... connected.\n",
            "HTTP request sent, awaiting response... 200 OK\n",
            "Length: unspecified [application/x-zip-compressed]\n",
            "Saving to: ‘codigos.zip’\n",
            "\n",
            "codigos.zip             [ <=>                ]   5.42M  --.-KB/s    in 0.03s   \n",
            "\n",
            "2021-05-11 19:48:25 (194 MB/s) - ‘codigos.zip’ saved [5688764]\n",
            "\n",
            "Archive:  codigos.zip\n",
            "  inflating: figures/AWGN.png        \n",
            "  inflating: figures/bandpass.log    \n",
            "  inflating: figures/bandpass.tex    \n",
            "  inflating: figures/bearcon_time_signal_bsf.eps  \n",
            "  inflating: figures/bearcon_time_signal_bsf-eps-converted-to.pdf  \n",
            "  inflating: figures/BesselFirstKind.eps  \n",
            "  inflating: figures/BesselFirstKind-eps-converted-to.pdf  \n",
            "  inflating: figures/constant.aux    \n",
            "  inflating: figures/constant.png    \n",
            "  inflating: figures/Daubechie.png   \n",
            "  inflating: figures/diagmodbasico.tex  \n",
            "  inflating: figures/DiagRxOptDig.png  \n",
            "  inflating: figures/diagrxoptdig.tex  \n",
            "  inflating: figures/ejemfcorrelmeandro.tex  \n",
            "  inflating: figures/ESD43.png       \n",
            "  inflating: figures/ESDRect.png     \n",
            "  inflating: figures/esquema_demod_dsbsc.tex  \n",
            "  inflating: figures/FCos-1.png      \n",
            "  inflating: figures/fig1.log        \n",
            "  inflating: figures/fig1.tex        \n",
            "  inflating: figures/fig2.tex        \n",
            "  inflating: figures/Forma01.png     \n",
            "  inflating: figures/FT_Resolution.png  \n",
            "  inflating: figures/FT-1.png        \n",
            "  inflating: figures/ftmodsc.eps     \n",
            "  inflating: figures/ftmodsc-eps-converted-to.pdf  \n",
            "  inflating: figures/ImagExp.png     \n",
            "  inflating: figures/LCos.png        \n",
            "  inflating: figures/LSin.png        \n",
            "  inflating: figures/MAP.aux         \n",
            "  inflating: figures/MAP.pdf         \n",
            "  inflating: figures/MAP.png         \n",
            "  inflating: figures/MAPI.png        \n",
            "  inflating: figures/MAPII.png       \n",
            "  inflating: figures/MAPIII.png      \n",
            "  inflating: figures/MAPIV.png       \n",
            "  inflating: figures/MediaRC.eps     \n",
            "  inflating: figures/MediaRC-eps-converted-to.pdf  \n",
            "  inflating: figures/modelofuncor.tex  \n",
            "  inflating: figures/modSpectral.eps  \n",
            "  inflating: figures/modSpectral-eps-converted-to.pdf  \n",
            "  inflating: figures/MuEq.png        \n",
            "  inflating: figures/oblastobnaruzh.tex  \n",
            "  inflating: figures/phimodlcm1.eps  \n",
            "  inflating: figures/phimodlcm1-eps-converted-to.pdf  \n",
            "  inflating: figures/phimodlcm2.eps  \n",
            "  inflating: figures/phimodlcm2-eps-converted-to.pdf  \n",
            "  inflating: figures/phimodlcm3.eps  \n",
            "  inflating: figures/phimodlcm3-eps-converted-to.pdf  \n",
            "  inflating: figures/phimodsc.eps    \n",
            "  inflating: figures/phimodsc-eps-converted-to.pdf  \n",
            "  inflating: figures/POwerSignal.png  \n",
            "  inflating: figures/ProcAleatorio3D.eps  \n",
            "  inflating: figures/ProcAleatorio3D-eps-converted-to.pdf  \n",
            "  inflating: figures/PSD.gif         \n",
            "  inflating: figures/PSD.png         \n",
            "  inflating: figures/PulsoCuadrado.png  \n",
            "  inflating: figures/RealExp.png     \n",
            "  inflating: figures/ruidoblanco.tex  \n",
            "  inflating: figures/SigmaConst.png  \n",
            "  inflating: figures/Signal.png      \n",
            "  inflating: figures/simpleSpectral.eps  \n",
            "  inflating: figures/simpleSpectral-eps-converted-to.pdf  \n",
            "  inflating: figures/SNRROC.png      \n",
            "  inflating: figures/spectra_wb_fm_constant_deltaw.eps  \n",
            "  inflating: figures/spectra_wb_fm_constant_deltaw-eps-converted-to.pdf  \n",
            "  inflating: figures/spectra_wb_fm_constant_wm.eps  \n",
            "  inflating: figures/spectra_wb_fm_constant_wm-eps-converted-to.pdf  \n",
            "  inflating: figures/ST.png          \n",
            "  inflating: figures/TrhSignal.png   \n",
            "  inflating: figures/wfig3.tex       \n",
            "  inflating: figures/wfig3a.log      \n",
            "  inflating: figures/wfig3a.tex      \n",
            "  inflating: figures/WieJinEjemplo.eps  \n",
            "  inflating: figures/WieJinEjemplo-eps-converted-to.pdf  \n",
            "  inflating: figures/WindowsTime.png  \n",
            "  inflating: figures/WTO_1.png       \n",
            "  inflating: figures/WTO_1b.png      \n",
            "codigos.zip  figures  sample_data\n"
          ],
          "name": "stdout"
        }
      ]
    },
    {
      "cell_type": "markdown",
      "metadata": {
        "id": "5-R67GMXaMVF"
      },
      "source": [
        "# Fidelity: Analog Transmission"
      ]
    },
    {
      "cell_type": "markdown",
      "metadata": {
        "id": "15q69AXSaXaZ"
      },
      "source": [
        "## Fidelity of Modulation Techniques.\n",
        "\n",
        "\\begin{align*}\n",
        "y(t) &= x(t) +\\eta(t), \\quad \\mathcal{N}_\\eta(0,\\sigma_\\eta),\\quad \\textrm{Additive White Gaussian Noise -- AWGN}\\\\\n",
        "E\\left\\{ y^2(t)\\right\\} &=E\\left\\{x^{2}(t)+\\eta^{2}(t)\\right\\}\\\\\n",
        "&=E\\left\\{x^{2}(t)\\right\\}+E\\left\\{\\eta^{2}(t)\\right\\}\\\\\n",
        "&=S_x + N\\\\\n",
        "S_y/N&=S_x/N + 1\\\\\n",
        "S_y/N&\\approx S_x/N\\\\\n",
        "\\kappa &= {\\frac{S_s/N_s}{S_e/N_e}},\\; \\kappa\\geq 0\n",
        "\\end{align*}"
      ]
    },
    {
      "cell_type": "markdown",
      "metadata": {
        "id": "JDyQgzOG95z7"
      },
      "source": [
        "**Fidelity of AM transmission**\n",
        " \n",
        "\\begin{align*}%\\label{eq:FPBmod}\n",
        "\\textrm{RF bandpass filter}&\\\\\n",
        "H_{BPF}(\\omega)&{=}\n",
        "\\begin{cases}\n",
        "1, & \\omega_c-\\varOmega_x\\leq |\\omega| \\leq \\omega_c+\\varOmega_x\\\\\n",
        "0, & \\text{Otherwise }%\n",
        "\\end{cases}\\\\\n",
        "\\textrm{Bandpass noise model}&\\\\\n",
        "\\eta(t) &= \\eta_{c}(t) \\cos \\omega_c t - \\eta_{s}(t) \\sin \\omega_c t\\\\\n",
        "E\\left\\{\\eta^{2}_{c}(t)\\right\\}&=E\\left\\{\\eta^{2}_{s}(t)\\right\\}=E\\left\\{\\eta^{2}(t)\\right\\}/2\\\\\n",
        "N_e& = E\\left\\{\\eta^{2}(t)\\right\\} =\\frac{2}{2 \\pi} \\int_{\\omega_c - \\varOmega_x}^{\\omega_c + \\varOmega_x} \\frac{N_0}{2} d \\omega \\\\\n",
        " &=2 N_0 f_{\\max}\\\\\n",
        " \\textrm{input S/N}&\\\\\n",
        " (S/N)_e&= S_e/2 N_0 f_{\\max}\n",
        "\\end{align*}"
      ]
    },
    {
      "cell_type": "code",
      "metadata": {
        "colab": {
          "base_uri": "https://localhost:8080/",
          "height": 242
        },
        "id": "hTsccM_g9uWP",
        "outputId": "42960be8-137e-4a89-85b3-3cea9357dd06"
      },
      "source": [
        "from IPython.display import Image\n",
        "Image('/content/channel_mod.PNG', width=600)"
      ],
      "execution_count": null,
      "outputs": [
        {
          "output_type": "execute_result",
          "data": {
            "image/png": "[encoded data removed]",
            "text/plain": [
              "<IPython.core.display.Image object>"
            ]
          },
          "metadata": {
            "tags": [],
            "image/png": {
              "width": 600
            }
          },
          "execution_count": 3
        }
      ]
    },
    {
      "cell_type": "markdown",
      "metadata": {
        "id": "uwD33i71-fMn"
      },
      "source": [
        "Figure 1: Channel model of RF transmission"
      ]
    },
    {
      "cell_type": "markdown",
      "metadata": {
        "id": "C1_X0ffg-m1K"
      },
      "source": [
        "DSB having index modulation $\\mu\\in\\!R(0,1) $ and under coherent demodulation ($\\omega_{cTx}=\\omega_{cRx}= \\omega_{c}$)\n",
        " \n",
        "\\begin{align*} \n",
        "y(t) &= a ( 1+ \\mu x(t) ) \\cos \\omega_c t +{ \\eta_{c}(t) \\cos \\omega_c t - \\eta_{s}(t) \\sin \\omega_c t}\\\\\n",
        "y(t)\\cos(\\omega t) & = a ( 1+ \\mu x(t) ) \\cos \\omega_c t \\cos \\omega_c t + (\\eta_{c}(t) \\cos \\omega_c t - \\eta_{s}(t) \\sin \\omega_c t)\\cos \\omega_c t\\\\\n",
        "& = (a ( 1+ \\mu x(t) ) + \\eta_c(t) +( \\eta_c(t)+a ( 1+ \\mu x(t) )) \\cos 2\\omega_c t)/2 +(\\eta_{s}(t) \\sin 2\\omega_c t)/2\\\\\n",
        "\\textrm{at the demodulator output}&\\\\\n",
        "z(t)&= a ( 1+ \\mu x(t) ) + {\\eta_c(t)}\n",
        "\\end{align*}\n"
      ]
    },
    {
      "cell_type": "markdown",
      "metadata": {
        "id": "WfgaUjGA--bO"
      },
      "source": [
        "\\begin{align*} \n",
        "\\kappa &= {\\frac{S_s/N_s}{S_e/N_e}},\\; \\kappa\\geq 0\\\\\n",
        "S_s/N_s &= {a^2 \\mu^{2} S_{x}}/{2 N_0 f_{\\max}},\\\\\n",
        "&=\\frac{ {a^2 \\mu^{2} S_{x}}/{2N_0 f_{\\max}}}{{S_{e}}/{2 N_0 f_{\\max}}}\n",
        "\\end{align*}\n",
        "\n",
        "\n",
        "\\begin{align*} \n",
        "\\textrm{Since it holds that\\quad }&S_{x}\\approx S_{s}\\\\\n",
        "\\kappa&=a^2 \\mu^{2}\\\\\n",
        "\\textrm{Let's assume a normalized signal set:\\quad }& a=1\\\\\n",
        "\\Rightarrow &\\kappa\\leq 1\n",
        "\\end{align*}\n",
        "\n",
        "\n",
        "Therefore, AM modulation does not improve the fidelity of modulated signals. \\\\\n",
        "\n",
        "The use of SSB yields the same result: the modulated signal has half of bandwidth, but the noise also shrinks in the same ratio. \\\\\n",
        "\n",
        "Rather, AM may worsen the quality of transmission, regardless of the used technique (SSB or DSB). \\\\"
      ]
    },
    {
      "cell_type": "markdown",
      "metadata": {
        "id": "TA-VA_Nf_lso"
      },
      "source": [
        "**_Fidelity of FM transmission_**\n",
        "\n",
        "\\begin{equation*} \n",
        "y(t) = a \\cos(\\omega_c t + \\phi (t)) + \\eta_{c}(t) \\cos \\omega_c t - \\eta_{s}(t) \\sin \\omega_c t\n",
        "\\end{equation*}\n",
        "\n",
        " \n",
        "We must make clear the influence of AWGN on the phase deviation term $ \\phi (t)$, including the message.\n",
        "\n",
        "$$\n",
        "y(t) = a \\cos(\\omega_c t + \\phi (t)) + r_\\eta(t) \\cos (\\omega_c t - \\phi_\\eta(t)), \\quad r_\\eta(t) = \\sqrt{\\eta^{2}_{c}(t)+\\eta^{2}_{s}(t)},\\quad \\phi_\\eta(t)= \\tan^{-1}(\\eta_{s}(t)/\\eta_{c}(t))\n",
        "$$\n",
        "\n",
        "By unfolding the first argument, we have\n",
        "\n",
        "$$\n",
        "\\omega_c t + \\phi_\\eta (t) = \\omega_c t + {\\phi(t)} + \\phi_\\eta (t) - {\\phi(t)}\n",
        "$$\n",
        "\n",
        "Therefore, the  modulated  signal reads as follows:\n",
        " \n",
        "\\begin{align*}\n",
        "y(t) = a \\cos(\\omega_c t + \\phi (t)) &+ r_\\eta(t) \\cos(\\phi_\\eta (t) - \\phi(t))\\cos(\\omega_c t + \\phi (t)) \\\\\n",
        "&\\quad -r_\\eta(t) \\sin(\\phi_\\eta (t) - \\phi(t))\\sin(\\omega_c t + \\phi (t))\n",
        "\\end{align*}\n",
        "\n",
        "\n",
        "\\begin{align*}\n",
        "y(t) & = (a + r_\\eta(t)\\cos(\\phi_\\eta (t) - \\phi(t))\\cos(\\omega_c t + \\phi (t)) -r_\\eta(t) \\sin(\\phi_\\eta (t) - \\phi(t))\\sin(\\omega_c t + \\phi (t))\\\\\n",
        "&= \\rho(t)\\cos(\\omega_ct +\\phi(t) +\\phi_r(t) )\n",
        "\\end{align*}\n",
        "\n",
        "where\n",
        "\n",
        "\\begin{align*}\n",
        "\\phi_r(t) &= \\tan^{-1}\\frac{r_\\eta(t) \\sin(\\phi_\\eta (t) - \\phi(t))}{a + r_\\eta(t)\\cos(\\phi_\\eta (t) - \\phi(t)}\\\\%\\label{eq:Fase_ruido}\\\\\n",
        "\\rho(t) & = \\sqrt{(a + r_\\eta(t)\\cos(\\phi_\\eta (t) - \\phi(t))^{2}+(r_\\eta(t) \\sin(\\phi_\\eta (t) - \\phi(t)))^{2}}%\\label{eq:Envol_Ruido}\n",
        "\\end{align*}"
      ]
    },
    {
      "cell_type": "markdown",
      "metadata": {
        "id": "Tq6xUDVr_shM"
      },
      "source": [
        "Nonetheless, $\\rho(t)=\\operatorname{const}.$ Otherwise, additional distortion may come from the envelope. Therefore, the signal at the demodulation input is as follows:\n",
        "\n",
        "$$\n",
        "y(t) = \\cos(\\omega_ct +\\Phi(t) ) , \\quad\n",
        "$$\n",
        "where $ \\Phi(t) = \\phi(t) +\\phi_r(t)$ includes the influence of noise and the message together.\n",
        "\n",
        "Analysis is carried out for cases of S/N ratio:\n",
        "\n",
        "1. $a^{2}\\gg E\\left\\{ r_\\eta^{2}(t)\\right\\},$  meaning very high  S/N.\n",
        "$$\\boxed{\\phi_r(t) \\simeq \\frac{ r_\\eta(t)}{a}\\sin(\\phi_\\eta (t) - \\phi(t)),}\n",
        "$$\n",
        "\tThen, the generalized phase term is as below:\n",
        "$$\n",
        "\t\\Phi(t) = \\phi(t) + \\frac{ r_\\eta(t)}{a}\\sin(\\phi_\\eta (t) - \\phi(t)),\\quad \\textrm{phase ruled by message}\n",
        "$$\n",
        "1. $a^{2}\\ll E\\left\\{ r_\\eta^{2}(t)\\right\\},$ meaning very low  S/N (Actually, the noise is stronger than the message).\n",
        "$$\n",
        "\t{r_\\eta(t) \\sin(\\phi_\\eta (t) - \\phi(t))}\\simeq{a + r_\\eta(t)\\cos(\\phi_\\eta (t) - \\phi(t)}\n",
        "$$\n",
        "$$\n",
        "\t\\Phi(t) = \\phi_\\eta(t) - \\frac{a}{ r_\\eta(t)}\\sin(\\phi_\\eta (t) - \\phi(t)),\\quad \\textrm{phase ruled by noise}\n",
        "$$"
      ]
    },
    {
      "cell_type": "markdown",
      "metadata": {
        "id": "EltpgaxSANB3"
      },
      "source": [
        "Let's assume $S_x/N\\gg 1,$ \n",
        "\n",
        "\\begin{align*}\n",
        "z(t)&=k_D\\Phi(t) =k_D\\phi(t) + {\\eta_{PM}(t)},&\\quad\\text{PM}\\\\\n",
        "z(t)&=\\frac{1}{2\\pi}k_D\\frac{d\\Phi}{dt} =\\frac{1}{2\\pi}k_D\\frac{d\\phi}{dt} + \\eta_{FM}(t),&\\quad\\text{FM}\n",
        "\\end{align*}\n",
        "\n",
        "\n",
        "$\\eta_{PM}(t)$ and  $\\eta_{FM}(t)$ are the noisy components.\n",
        "\n",
        "\\begin{align*}\n",
        "{\\eta_{PM}(t)}&=k_D\\Phi(t) =k_D\\phi_\\eta(t) = k_D\\frac{ r_\\eta(t)}{a}\\sin(\\phi_\\eta (t) - \\phi(t))\\\\\n",
        "\\eta_{FM}(t)&=\\frac{k_D}{2\\pi}\\frac{d\\phi_\\eta}{dt} =\\frac{k_D}{2\\pi}\\frac{d}{dt}\\left\\{\\frac{ r_\\eta(t)}{a}\\sin(\\phi_\\eta (t) - \\phi(t))\\right\\}\n",
        "\\end{align*}\n",
        "\n",
        "By introducing a normalized term, $x_n(t),$ we have\n",
        "\n",
        "\\begin{align*}\n",
        "z(t)&=k_Dk_px_n(t) + {\\eta_{PM}(t)},&\\quad\\text{PM}\\\\\n",
        "z(t)&=k_Df_dx_n(t) + \\eta_{FM}(t),\\quad f_d= k_p/2\\pi&\\quad\\text{FM},\n",
        "\\end{align*}\n",
        "\n",
        "Therefore, the output S/N ratios are as below, respectively:\n",
        "\n",
        "\\begin{align*}\n",
        "\tS_{PM}&=k^{2}_Dk^{2}_pE\\left\\{x^{2}_n(t)\\right\\} \\\\\n",
        "\tS_{FM}&=k^{2}_Df^{2}_dE\\left\\{x^{2}_n(t)\\right\\} \n",
        "\\end{align*}\n",
        "\n",
        "However, computation of $\\sin(\\phi_\\eta (t) - \\phi(t))$ depends on $\\phi(t).$ But, we do not have this term explicitly.\\\\\n",
        "Without loss of generality, we can assume $x_n(t) =0$. We are just considering only noise at the discriminator input:\n",
        "\n",
        "\\begin{align*}\n",
        " {{r_\\eta(t)\\sin(\\phi_\\eta (t) - \\phi(t))}} &= r_\\eta(t)\\sin(\\phi_\\eta (t))\\\\\n",
        "&=\\boxed{{\\eta _s(t)}}\\textrm{\\quad That is, WGN at the input, and WGN at the output}\n",
        "\\end{align*}"
      ]
    },
    {
      "cell_type": "markdown",
      "metadata": {
        "id": "m2vPHIGXAnjH"
      },
      "source": [
        "Therefore, the noise terms are expressed as:\n",
        "\n",
        "\\begin{align*}\n",
        "\\eta_{PM}(t)&=\\frac{k_D}{a}\\eta _s(t),\\quad \\textrm{WGN}\\\\\n",
        "\\eta_{FM}(t)&=\\frac{k_D}{2\\pi a}{\\frac{d\\eta _s}{dt}}\n",
        "\\end{align*}\n",
        "\n",
        "The output noise power of PM demodulation is computed as:\n",
        "\n",
        "\\begin{align*}\n",
        "N_{PM} &= E\\left\\{\\eta^{2}_{PM}(t)\\right\\} =\\frac{k^{2}_D}{a^{2}}E\\left\\{\\eta^{2}_s(t)\\right\\} =\\frac{k^{2}_D}{2\\pi a^{2}}\\int_{2\\pi f_{\\max}}{N_0 df}\\\\\n",
        "&=\\frac{k^{2}_D}{a^{2}}N_0 f_{\\max}\n",
        "\\end{align*}\n",
        "\n",
        "Thus, the input and output S/N are computed, respectively, as follows:\n",
        "\n",
        "\\begin{align*}\n",
        "(S/N)_e &= {{S}}\\left/{{\\frac{N_0}{2}f_{\\max}}}\\right.=\\frac{a^{2}E\\left\\{x^{2}_n(t)\\right\\}}{2N_0f_{\\max}}\\\\\n",
        "(S_{PM}/N_{PM})_s&=\\frac{k^{2}_Dk^{2}_pE\\left\\{x^{2}_n(t)\\right\\}}{2(k^{2}_D/a^{2})N_0f_{\\max}}=\\frac{a^{2}k^{2}_pE\\left\\{x^{2}_n(t)\\right\\}}{2N_0f_{\\max}}\n",
        "\\end{align*}\n",
        "\n",
        "Consequently, the gain process performed by PM is as below:\n",
        "\n",
        "\\begin{align}\n",
        "\\kappa &=\\left.{\\frac{a^{2}k^{2}_pE\\left\\{x^{2}_n(t)\\right\\}}{2N_0f_{\\max}}}\\right/\\frac{a^{2}E\\left\\{x^{2}_n(t)\\right\\}}{2N_0f_{\\max}} \n",
        "=k^{2}_p ,\\quad \\Rightarrow{\\max\\{\\kappa\\}=\\pi^{2}\\simeq 10},\n",
        "\\end{align}\n"
      ]
    },
    {
      "cell_type": "markdown",
      "metadata": {
        "id": "DG5IwCftA3zH"
      },
      "source": [
        "As regards Frequency Modulation,  we must consider the case of WGN passing trough derivative system prior to   compute the output noise power of FM modulation: \n",
        "$$\n",
        "\\xi(t)\\longrightarrow \\boxed{d\\xi/dt}\\longrightarrow\\eta(t);\\quad S_\\xi(\\omega)\\longrightarrow \\boxed{H(\\omega)=|j\\omega|}\\longrightarrow |\\omega|^{2}N_0/2;\n",
        "$$\n",
        "So, the output noise power of PM demodulation is computed as:\n",
        "\n",
        "\\begin{align*}\n",
        "N_{FM} &= E\\left\\{\\eta^{2}_{FM}(t)\\right\\} =\\frac{k^{2}_D}{a^{2}}E\\left\\{\\frac{d\\eta^{2}_s}{d^{2}t}\\right\\}  \n",
        " =\\frac{k^{2}_D}{2\\pi a^{2}}N_0\\int_{2\\pi f_{\\max}}{f^{2} df}\\\\\n",
        "&{=\\frac{1}{3}\\frac{k^{2}_D}{a^{2}}N_0  f_{\\max}^{3}}\\quad\\textrm{In other words, we have the frequency varying function: }\\frac{S}{N}(\\omega)\n",
        "\\end{align*}\n",
        "\n",
        "By omitting this \"nuance\", we have:\n",
        "\n",
        "\\begin{align*}\n",
        "(S_{FM}/N_{FM})_s & = \\frac{k^{2}_Df^{2}_dE\\left\\{x^{2}_n(t)\\right\\}}{\\frac{1}{3}\\frac{k^{2}_D}{a^{2}}N_0 f_{\\max}^{3}}  = 6\\left(\\frac{f_d}{f_{\\max}}\\right)^{2}\\frac{a^{2}E\\left\\{x^{2}_n(t)\\right\\}}{2N_0f_{\\max} }\\\\\n",
        "& = 6\\beta^{2}(S/N)_e\\\\\n",
        "\\kappa &= {6\\beta^{2}}\n",
        "\\end{align*} \n",
        "\n",
        "Due to $\\beta\\in[0,\\infty),$ theoretically, we may enlarge $\\kappa$ as high as $\\infty$, but it comes at the cost of infinite bandwidth."
      ]
    },
    {
      "cell_type": "code",
      "metadata": {
        "colab": {
          "base_uri": "https://localhost:8080/",
          "height": 281
        },
        "id": "6ybfeltP-dZx",
        "outputId": "19693762-1933-47d7-f0ce-0adf8f08f534"
      },
      "source": [
        "Image('/content/fm_fid.PNG', width=800)"
      ],
      "execution_count": null,
      "outputs": [
        {
          "output_type": "execute_result",
          "data": {
            "image/png": "[encoded data removed]",
            "text/plain": [
              "<IPython.core.display.Image object>"
            ]
          },
          "metadata": {
            "tags": [],
            "image/png": {
              "width": 800
            }
          },
          "execution_count": 5
        }
      ]
    },
    {
      "cell_type": "markdown",
      "metadata": {
        "id": "Y66FyI1jBiW2"
      },
      "source": [
        "Figure 2: Explanation of FM fidelity"
      ]
    },
    {
      "cell_type": "markdown",
      "metadata": {
        "id": "IeM40ly-BsHs"
      },
      "source": [
        "**_Exercise_**: Simulation of binary Gaussian channels. \\\\\n",
        "\n",
        "1. Generate a message $\\{x(a_k,t):k\\in M\\}$ as a random set of binary values $\\{a_0,a_1\\}$, with $a_0=-a_1$, sizing $M$. Each symbol lasts $N$ samples. \n",
        "1. Calculate the histogram and the symbol probability.\n",
        "1. Simulate a  binary symbol sequence with probabilities $\\{P(a_n):n\\in N-1\\}$, transmitted through a noiseless channels, having a transfer function $|H(\\omega)|=1$. \n",
        "1. Generate WGN $\\eta_k$ spanned onto $T=NM$, with $m_{\\eta1}=0$ and S/N fixed to $30$dB.\n",
        "1. Compute the pdf of $\\eta_k$. \n",
        "1. Add  WGN $\\eta_k$ to the message $x_k$, resulting in \n",
        "\t\\[y_k=x_k+\\eta_k,\\quad k\\en T\\] \n",
        "1. Compute the conditional probability $P(y|a_n)$\n",
        "1. Appraise the symbol probability error experimentally, varying S/N.\n"
      ]
    }
  ]
}